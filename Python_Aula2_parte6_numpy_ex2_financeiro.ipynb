{
  "nbformat": 4,
  "nbformat_minor": 0,
  "metadata": {
    "colab": {
      "name": "Python_Aula2_parte6_numpy_ex2_financeiro.ipynb",
      "provenance": [],
      "collapsed_sections": [],
      "authorship_tag": "ABX9TyNkNtQVzYlEfEEzYarp1Zy4",
      "include_colab_link": true
    },
    "kernelspec": {
      "name": "python3",
      "display_name": "Python 3"
    }
  },
  "cells": [
    {
      "cell_type": "markdown",
      "metadata": {
        "id": "view-in-github",
        "colab_type": "text"
      },
      "source": [
        "<a href=\"https://colab.research.google.com/github/rudipop/Rudi_Aulas_Python/blob/main/Python_Aula2_parte6_numpy_ex2_financeiro.ipynb\" target=\"_parent\"><img src=\"https://colab.research.google.com/assets/colab-badge.svg\" alt=\"Open In Colab\"/></a>"
      ]
    },
    {
      "cell_type": "markdown",
      "metadata": {
        "id": "etXtgXWjTb0d"
      },
      "source": [
        "## Exercicio numpy analise de demonstração financeira"
      ]
    },
    {
      "cell_type": "code",
      "metadata": {
        "id": "EdFumz5yTlxB"
      },
      "source": [
        "import numpy as np\n",
        "\n",
        "receitas = np.array([14574.49, 7606.46, 18611.41, 19175.41, 8758.65, 8105.44, 11496.28, 9766.09, 10305.32, 18379.96, 10713.97, 15433.50])\n",
        "custos = np.array([12051.82, 5695.07, 12319.20, 12089.72, 8658.57, 840.20, 3285.73, 5821.12, 6976.93, 16618.61, 10054.37, 3803.96])\n",
        "MesesdoAno = np.array(['janeiro','fevereiro','março','abril','maio','junho','julho','agosto','setembro','outubro','novembro','dezembro'])"
      ],
      "execution_count": 5,
      "outputs": []
    },
    {
      "cell_type": "code",
      "metadata": {
        "id": "aXFCyAolTsMd"
      },
      "source": [
        ""
      ],
      "execution_count": null,
      "outputs": []
    },
    {
      "cell_type": "markdown",
      "metadata": {
        "id": "vOlvddI_WF3P"
      },
      "source": [
        "## lucro de cada mês\n",
        "\n"
      ]
    },
    {
      "cell_type": "code",
      "metadata": {
        "id": "_jlKc5bTW4YM",
        "outputId": "a970165f-042e-4dee-8ae2-9c60bf8abf2d",
        "colab": {
          "base_uri": "https://localhost:8080/"
        }
      },
      "source": [
        "LucroMes = receitas - custos\n",
        "print('Lucro nos meses: ',LucroMes)\n",
        "print()\n",
        "LucroMesImposto = LucroMes - LucroMes*0.3\n",
        "print('O lucro descontado o imposto : ', LucroMesImposto)\n",
        "print()\n",
        "LucroMargem = LucroMesImposto/receitas\n",
        "print('A margem de lucro : ', LucroMargem)\n",
        "print()\n",
        "LucroMedio = np.mean(LucroMesImposto)\n",
        "print('Lucro medio', LucroMedio)\n",
        "print()\n",
        "MesBOM = np.where(LucroMesImposto > LucroMedio)\n",
        "print('Meses Bons :',MesesdoAno[MesBOM])\n",
        "print('Lucro meses bons: ', LucroMesImposto[MesBOM] )\n",
        "\n",
        "print()\n",
        "MesRUIM = np.where(LucroMesImposto < LucroMedio)\n",
        "print('Meses Ruins :',MesesdoAno[MesRUIM])\n",
        "print('Lucro meses ruins: ', LucroMesImposto[MesRUIM])\n",
        "\n",
        "print()\n",
        "LucroMelhorMes = np.max(LucroMesImposto)\n",
        "MelhorMes = np.where(LucroMesImposto == LucroMelhorMes)\n",
        "print('Melhor Mes: ',MesesdoAno[MelhorMes])\n",
        "print()\n",
        "LucroPiorMes = np.min(LucroMesImposto)\n",
        "PiorMes = np.where(LucroMesImposto == LucroPiorMes)\n",
        "print('Pior Mes: ',MesesdoAno[PiorMes])"
      ],
      "execution_count": 28,
      "outputs": [
        {
          "output_type": "stream",
          "text": [
            "Lucro nos meses:  [ 2522.67  1911.39  6292.21  7085.69   100.08  7265.24  8210.55  3944.97\n",
            "  3328.39  1761.35   659.6  11629.54]\n",
            "\n",
            "O lucro descontado o imposto :  [1765.869 1337.973 4404.547 4959.983   70.056 5085.668 5747.385 2761.479\n",
            " 2329.873 1232.945  461.72  8140.678]\n",
            "\n",
            "A margem de lucro :  [0.12116163 0.17589956 0.23665843 0.25866373 0.00799849 0.62743886\n",
            " 0.49993433 0.28276199 0.22608449 0.06708094 0.04309514 0.52746804]\n",
            "\n",
            "Lucro medio 3191.5146666666665\n",
            "\n",
            "Meses Bons : ['março' 'abril' 'junho' 'julho' 'dezembro']\n",
            "Lucro meses bons:  [4404.547 4959.983 5085.668 5747.385 8140.678]\n",
            "\n",
            "Meses Ruins : ['janeiro' 'fevereiro' 'maio' 'agosto' 'setembro' 'outubro' 'novembro']\n",
            "Lucro meses ruins:  [1765.869 1337.973   70.056 2761.479 2329.873 1232.945  461.72 ]\n",
            "\n",
            "Melhor Mes:  ['dezembro']\n",
            "\n",
            "Pior Mes:  ['maio']\n"
          ],
          "name": "stdout"
        }
      ]
    }
  ]
}