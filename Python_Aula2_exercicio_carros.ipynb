{
  "nbformat": 4,
  "nbformat_minor": 0,
  "metadata": {
    "colab": {
      "name": "Python_Aula2_exercicio_carros.ipynb",
      "provenance": [],
      "collapsed_sections": [],
      "authorship_tag": "ABX9TyNzloKyijSdLU3wiTRaCgbE",
      "include_colab_link": true
    },
    "kernelspec": {
      "name": "python3",
      "display_name": "Python 3"
    }
  },
  "cells": [
    {
      "cell_type": "markdown",
      "metadata": {
        "id": "view-in-github",
        "colab_type": "text"
      },
      "source": [
        "<a href=\"https://colab.research.google.com/github/rudipop/Rudi_Aulas_Python/blob/main/Python_Aula2_exercicio_carros.ipynb\" target=\"_parent\"><img src=\"https://colab.research.google.com/assets/colab-badge.svg\" alt=\"Open In Colab\"/></a>"
      ]
    },
    {
      "cell_type": "code",
      "metadata": {
        "id": "yIjW07xdV-U_"
      },
      "source": [
        "class Carro:\n",
        "  def __init__(self, cor, ano, modelo, tipo_combustivel):\n",
        "    self.cor = cor\n",
        "    self.ano = ano\n",
        "    self.modelo = modelo\n",
        "    self.tipo_combustivel = tipo_combustivel\n",
        "\n",
        "  def ligar(self):\n",
        "      print('ligando o carro... vrummmmm')\n",
        "\n",
        "  def desligar(self):\n",
        "      print('desligando o carro...')\n",
        "\n",
        "  def acelerar(self):\n",
        "      self.ligar()\n",
        "      print('acelerando o carro... saia da frenteeeeeee')\n",
        "\n",
        "  # deixa self, se não colocar dá erro na defimição da função.\n",
        "  # Mas se for método estático por exemplo sem o self entre parenteses.\n",
        "\n",
        "  @staticmethod # decorator para criar métodos estáticos\n",
        "  def parar():\n",
        "      print('Vou parar o carro')\n"
      ],
      "execution_count": 40,
      "outputs": []
    },
    {
      "cell_type": "code",
      "metadata": {
        "id": "OpmIVs7KXe-5"
      },
      "source": [
        "meu_carro = Carro('branco', 2020, 'Clio', 'Gasolina')\n"
      ],
      "execution_count": 41,
      "outputs": []
    },
    {
      "cell_type": "code",
      "metadata": {
        "id": "4sBuMN-gX7FO",
        "outputId": "028961ae-4b57-420c-86e5-2e1f7191cf58",
        "colab": {
          "base_uri": "https://localhost:8080/"
        }
      },
      "source": [
        "meu_carro.ano\n",
        "\n"
      ],
      "execution_count": 43,
      "outputs": [
        {
          "output_type": "execute_result",
          "data": {
            "text/plain": [
              "2020"
            ]
          },
          "metadata": {
            "tags": []
          },
          "execution_count": 43
        }
      ]
    },
    {
      "cell_type": "code",
      "metadata": {
        "id": "vrN_Ugz1YJsl",
        "outputId": "1352fd8c-9c89-420f-f4f2-4e65f53fc5c9",
        "colab": {
          "base_uri": "https://localhost:8080/"
        }
      },
      "source": [
        "meu_carro.acelerar()\n"
      ],
      "execution_count": 42,
      "outputs": [
        {
          "output_type": "stream",
          "text": [
            "ligando o carro... vrummmmm\n",
            "acelerando o carro... saia da frenteeeeeee\n"
          ],
          "name": "stdout"
        }
      ]
    },
    {
      "cell_type": "code",
      "metadata": {
        "id": "2qHAflIDaFTi",
        "outputId": "8c3ca84f-bf71-4149-948d-1055d2290c45",
        "colab": {
          "base_uri": "https://localhost:8080/"
        }
      },
      "source": [
        "meu_carro.parar()\n"
      ],
      "execution_count": 44,
      "outputs": [
        {
          "output_type": "stream",
          "text": [
            "Vou parar o carro\n"
          ],
          "name": "stdout"
        }
      ]
    },
    {
      "cell_type": "code",
      "metadata": {
        "id": "ercLzDMBc3UD"
      },
      "source": [
        "class Veiculo:\n",
        "  def __init__(self, cor, ano, modelo):\n",
        "    self.cor = cor\n",
        "    self.ano = ano\n",
        "    self.modelo = modelo\n",
        "\n",
        "class Carro(Veiculo):\n",
        "  def __init__(self, cor, ano, modelo, tipo_combustivel):\n",
        "    super().__init__(cor,ano,modelo)\n",
        "    self.tipo_combustivel = tipo_combustivel\n",
        "\n",
        "  def ligar(self):\n",
        "      print('ligando o carro... vrummmmm')\n",
        "\n",
        "  def desligar(self):\n",
        "      print('desligando o carro...')\n",
        "\n",
        "  def acelerar(self):\n",
        "      self.ligar()\n",
        "      print('acelerando o carro... saia da frenteeeeeee')\n",
        "\n",
        "  def parar():\n",
        "      print('Vou parar o carro')\n"
      ],
      "execution_count": 55,
      "outputs": []
    },
    {
      "cell_type": "code",
      "metadata": {
        "id": "UrA1MvwJeJ3w"
      },
      "source": [
        "veiculo1 = Veiculo('branco', 2010, 'fusca')"
      ],
      "execution_count": 56,
      "outputs": []
    },
    {
      "cell_type": "code",
      "metadata": {
        "id": "5T9xbLL1eW-D",
        "outputId": "ffa8645c-59ee-44c2-e829-0daa885edecf",
        "colab": {
          "base_uri": "https://localhost:8080/"
        }
      },
      "source": [
        "veiculo1.ano"
      ],
      "execution_count": 57,
      "outputs": [
        {
          "output_type": "execute_result",
          "data": {
            "text/plain": [
              "2010"
            ]
          },
          "metadata": {
            "tags": []
          },
          "execution_count": 57
        }
      ]
    },
    {
      "cell_type": "code",
      "metadata": {
        "id": "zfyHq8vgexDY"
      },
      "source": [
        "meu_carro_novo = Carro('verde', 2005, 'chevette', 'diesel')\n"
      ],
      "execution_count": 60,
      "outputs": []
    },
    {
      "cell_type": "code",
      "metadata": {
        "id": "g41BPYTlfQXl",
        "outputId": "b9023573-c6b0-48ec-dac1-a05c2b090708",
        "colab": {
          "base_uri": "https://localhost:8080/",
          "height": 35
        }
      },
      "source": [
        "meu_carro_novo.modelo\n"
      ],
      "execution_count": 61,
      "outputs": [
        {
          "output_type": "execute_result",
          "data": {
            "application/vnd.google.colaboratory.intrinsic+json": {
              "type": "string"
            },
            "text/plain": [
              "'chevette'"
            ]
          },
          "metadata": {
            "tags": []
          },
          "execution_count": 61
        }
      ]
    }
  ]
}