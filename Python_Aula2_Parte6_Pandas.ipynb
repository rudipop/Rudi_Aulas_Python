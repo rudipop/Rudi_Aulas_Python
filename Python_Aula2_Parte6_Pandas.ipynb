{
  "nbformat": 4,
  "nbformat_minor": 0,
  "metadata": {
    "colab": {
      "name": "Python_Aula2_Parte6_Pandas.ipynb",
      "provenance": [],
      "collapsed_sections": [],
      "authorship_tag": "ABX9TyMTsLM9HQEOPnM8Lz0ExTQz",
      "include_colab_link": true
    },
    "kernelspec": {
      "name": "python3",
      "display_name": "Python 3"
    }
  },
  "cells": [
    {
      "cell_type": "markdown",
      "metadata": {
        "id": "view-in-github",
        "colab_type": "text"
      },
      "source": [
        "<a href=\"https://colab.research.google.com/github/rudipop/Rudi_Aulas_Python/blob/main/Python_Aula2_Parte6_Pandas.ipynb\" target=\"_parent\"><img src=\"https://colab.research.google.com/assets/colab-badge.svg\" alt=\"Open In Colab\"/></a>"
      ]
    },
    {
      "cell_type": "markdown",
      "metadata": {
        "id": "e2ou9R5zxYHL"
      },
      "source": [
        "PANDAS\n"
      ]
    },
    {
      "cell_type": "code",
      "metadata": {
        "id": "VM8fRPyet8SA"
      },
      "source": [
        "import numpy as np\n",
        "import pandas as pd\n",
        "MesesdoAno = np.array(['janeiro','fevereiro','março','abril','maio','junho','julho','agosto','setembro','outubro','novembro','dezembro'])\n",
        "Alunos_6ano = np.array(['Gabriel','Felipe'])"
      ],
      "execution_count": 67,
      "outputs": []
    },
    {
      "cell_type": "code",
      "metadata": {
        "id": "Y3vNK10F0CnQ",
        "outputId": "cc5b0ba8-b30b-47da-efe2-bb97918bb927",
        "colab": {
          "base_uri": "https://localhost:8080/"
        }
      },
      "source": [
        "MesesdoAno"
      ],
      "execution_count": 24,
      "outputs": [
        {
          "output_type": "execute_result",
          "data": {
            "text/plain": [
              "array(['janeiro', 'fevereiro', 'março', 'abril', 'maio', 'junho', 'julho',\n",
              "       'agosto', 'setembro', 'outubro', 'novembro', 'dezembro'],\n",
              "      dtype='<U9')"
            ]
          },
          "metadata": {
            "tags": []
          },
          "execution_count": 24
        }
      ]
    },
    {
      "cell_type": "code",
      "metadata": {
        "id": "iWoJTHRmxm0H",
        "outputId": "871e59f8-3611-4663-97f3-5fd737df6bfe",
        "colab": {
          "base_uri": "https://localhost:8080/"
        }
      },
      "source": [
        "vet = np.random.randint(1,20,24)\n",
        "vet"
      ],
      "execution_count": 28,
      "outputs": [
        {
          "output_type": "execute_result",
          "data": {
            "text/plain": [
              "array([ 2, 10,  5,  6,  4,  7, 15, 12,  2, 17, 15, 10,  9,  2,  1,  7, 14,\n",
              "        4, 10, 16, 10,  7, 14, 10])"
            ]
          },
          "metadata": {
            "tags": []
          },
          "execution_count": 28
        }
      ]
    },
    {
      "cell_type": "code",
      "metadata": {
        "id": "Sd_795a1x133",
        "outputId": "6d49685d-dc9a-4e7e-f1f0-59434c16287a",
        "colab": {
          "base_uri": "https://localhost:8080/"
        }
      },
      "source": [
        "# cria series a partir do numpy array\n",
        "df = pd.Series(vet)\n",
        "df\n"
      ],
      "execution_count": 29,
      "outputs": [
        {
          "output_type": "execute_result",
          "data": {
            "text/plain": [
              "0      2\n",
              "1     10\n",
              "2      5\n",
              "3      6\n",
              "4      4\n",
              "5      7\n",
              "6     15\n",
              "7     12\n",
              "8      2\n",
              "9     17\n",
              "10    15\n",
              "11    10\n",
              "12     9\n",
              "13     2\n",
              "14     1\n",
              "15     7\n",
              "16    14\n",
              "17     4\n",
              "18    10\n",
              "19    16\n",
              "20    10\n",
              "21     7\n",
              "22    14\n",
              "23    10\n",
              "dtype: int64"
            ]
          },
          "metadata": {
            "tags": []
          },
          "execution_count": 29
        }
      ]
    },
    {
      "cell_type": "code",
      "metadata": {
        "id": "wm9XYplXyNWC",
        "outputId": "82453152-caef-4f17-f1db-208b4fc2e1d1",
        "colab": {
          "base_uri": "https://localhost:8080/"
        }
      },
      "source": [
        "df.head(10) # o default é 5"
      ],
      "execution_count": 11,
      "outputs": [
        {
          "output_type": "execute_result",
          "data": {
            "text/plain": [
              "0    13\n",
              "1     2\n",
              "2     7\n",
              "3    11\n",
              "4    13\n",
              "5    17\n",
              "6    16\n",
              "7     1\n",
              "8     6\n",
              "9    16\n",
              "dtype: int64"
            ]
          },
          "metadata": {
            "tags": []
          },
          "execution_count": 11
        }
      ]
    },
    {
      "cell_type": "code",
      "metadata": {
        "id": "K7rJK3jTyXHI",
        "outputId": "8693d34f-87f1-4ea4-df45-b3f8c56f1b05",
        "colab": {
          "base_uri": "https://localhost:8080/"
        }
      },
      "source": [
        "df.tail()"
      ],
      "execution_count": 13,
      "outputs": [
        {
          "output_type": "execute_result",
          "data": {
            "text/plain": [
              "21     8\n",
              "22    16\n",
              "23     4\n",
              "24    12\n",
              "25     5\n",
              "dtype: int64"
            ]
          },
          "metadata": {
            "tags": []
          },
          "execution_count": 13
        }
      ]
    },
    {
      "cell_type": "code",
      "metadata": {
        "id": "T8btYpzmyY9b",
        "outputId": "5db4e829-d5b5-4743-ba52-084f32931a47",
        "colab": {
          "base_uri": "https://localhost:8080/"
        }
      },
      "source": [
        "# criar dataframe\n",
        "vet2 = vet.reshape((2,12))\n",
        "vet2"
      ],
      "execution_count": 30,
      "outputs": [
        {
          "output_type": "execute_result",
          "data": {
            "text/plain": [
              "array([[ 2, 10,  5,  6,  4,  7, 15, 12,  2, 17, 15, 10],\n",
              "       [ 9,  2,  1,  7, 14,  4, 10, 16, 10,  7, 14, 10]])"
            ]
          },
          "metadata": {
            "tags": []
          },
          "execution_count": 30
        }
      ]
    },
    {
      "cell_type": "code",
      "metadata": {
        "id": "e4a9JFfZzHyy",
        "outputId": "94870ace-735c-4c3b-db88-9ac9a281f9a7",
        "colab": {
          "base_uri": "https://localhost:8080/",
          "height": 111
        }
      },
      "source": [
        "df2 = pd.DataFrame(vet2)\n",
        "df2"
      ],
      "execution_count": 31,
      "outputs": [
        {
          "output_type": "execute_result",
          "data": {
            "text/html": [
              "<div>\n",
              "<style scoped>\n",
              "    .dataframe tbody tr th:only-of-type {\n",
              "        vertical-align: middle;\n",
              "    }\n",
              "\n",
              "    .dataframe tbody tr th {\n",
              "        vertical-align: top;\n",
              "    }\n",
              "\n",
              "    .dataframe thead th {\n",
              "        text-align: right;\n",
              "    }\n",
              "</style>\n",
              "<table border=\"1\" class=\"dataframe\">\n",
              "  <thead>\n",
              "    <tr style=\"text-align: right;\">\n",
              "      <th></th>\n",
              "      <th>0</th>\n",
              "      <th>1</th>\n",
              "      <th>2</th>\n",
              "      <th>3</th>\n",
              "      <th>4</th>\n",
              "      <th>5</th>\n",
              "      <th>6</th>\n",
              "      <th>7</th>\n",
              "      <th>8</th>\n",
              "      <th>9</th>\n",
              "      <th>10</th>\n",
              "      <th>11</th>\n",
              "    </tr>\n",
              "  </thead>\n",
              "  <tbody>\n",
              "    <tr>\n",
              "      <th>0</th>\n",
              "      <td>2</td>\n",
              "      <td>10</td>\n",
              "      <td>5</td>\n",
              "      <td>6</td>\n",
              "      <td>4</td>\n",
              "      <td>7</td>\n",
              "      <td>15</td>\n",
              "      <td>12</td>\n",
              "      <td>2</td>\n",
              "      <td>17</td>\n",
              "      <td>15</td>\n",
              "      <td>10</td>\n",
              "    </tr>\n",
              "    <tr>\n",
              "      <th>1</th>\n",
              "      <td>9</td>\n",
              "      <td>2</td>\n",
              "      <td>1</td>\n",
              "      <td>7</td>\n",
              "      <td>14</td>\n",
              "      <td>4</td>\n",
              "      <td>10</td>\n",
              "      <td>16</td>\n",
              "      <td>10</td>\n",
              "      <td>7</td>\n",
              "      <td>14</td>\n",
              "      <td>10</td>\n",
              "    </tr>\n",
              "  </tbody>\n",
              "</table>\n",
              "</div>"
            ],
            "text/plain": [
              "   0   1   2   3   4   5   6   7   8   9   10  11\n",
              "0   2  10   5   6   4   7  15  12   2  17  15  10\n",
              "1   9   2   1   7  14   4  10  16  10   7  14  10"
            ]
          },
          "metadata": {
            "tags": []
          },
          "execution_count": 31
        }
      ]
    },
    {
      "cell_type": "code",
      "metadata": {
        "id": "EsCUNBRDzijx",
        "outputId": "1891e5b2-a57e-4946-c00d-04e7c0af0367",
        "colab": {
          "base_uri": "https://localhost:8080/",
          "height": 111
        }
      },
      "source": [
        "df2.head()"
      ],
      "execution_count": 25,
      "outputs": [
        {
          "output_type": "execute_result",
          "data": {
            "text/html": [
              "<div>\n",
              "<style scoped>\n",
              "    .dataframe tbody tr th:only-of-type {\n",
              "        vertical-align: middle;\n",
              "    }\n",
              "\n",
              "    .dataframe tbody tr th {\n",
              "        vertical-align: top;\n",
              "    }\n",
              "\n",
              "    .dataframe thead th {\n",
              "        text-align: right;\n",
              "    }\n",
              "</style>\n",
              "<table border=\"1\" class=\"dataframe\">\n",
              "  <thead>\n",
              "    <tr style=\"text-align: right;\">\n",
              "      <th></th>\n",
              "      <th>0</th>\n",
              "      <th>1</th>\n",
              "      <th>2</th>\n",
              "      <th>3</th>\n",
              "      <th>4</th>\n",
              "      <th>5</th>\n",
              "      <th>6</th>\n",
              "      <th>7</th>\n",
              "      <th>8</th>\n",
              "      <th>9</th>\n",
              "      <th>10</th>\n",
              "      <th>11</th>\n",
              "      <th>12</th>\n",
              "    </tr>\n",
              "  </thead>\n",
              "  <tbody>\n",
              "    <tr>\n",
              "      <th>0</th>\n",
              "      <td>13</td>\n",
              "      <td>2</td>\n",
              "      <td>7</td>\n",
              "      <td>11</td>\n",
              "      <td>13</td>\n",
              "      <td>17</td>\n",
              "      <td>16</td>\n",
              "      <td>1</td>\n",
              "      <td>6</td>\n",
              "      <td>16</td>\n",
              "      <td>15</td>\n",
              "      <td>8</td>\n",
              "      <td>18</td>\n",
              "    </tr>\n",
              "    <tr>\n",
              "      <th>1</th>\n",
              "      <td>9</td>\n",
              "      <td>9</td>\n",
              "      <td>3</td>\n",
              "      <td>19</td>\n",
              "      <td>14</td>\n",
              "      <td>1</td>\n",
              "      <td>18</td>\n",
              "      <td>3</td>\n",
              "      <td>8</td>\n",
              "      <td>16</td>\n",
              "      <td>4</td>\n",
              "      <td>12</td>\n",
              "      <td>5</td>\n",
              "    </tr>\n",
              "  </tbody>\n",
              "</table>\n",
              "</div>"
            ],
            "text/plain": [
              "   0   1   2   3   4   5   6   7   8   9   10  11  12\n",
              "0  13   2   7  11  13  17  16   1   6  16  15   8  18\n",
              "1   9   9   3  19  14   1  18   3   8  16   4  12   5"
            ]
          },
          "metadata": {
            "tags": []
          },
          "execution_count": 25
        }
      ]
    },
    {
      "cell_type": "code",
      "metadata": {
        "id": "8fJJrwsh0Lal",
        "outputId": "dadac195-d99d-448f-ce4f-353a92191fec",
        "colab": {
          "base_uri": "https://localhost:8080/",
          "height": 111
        }
      },
      "source": [
        "df2.columns = MesesdoAno\n",
        "df2.index = Alunos_6ano\n",
        "df2"
      ],
      "execution_count": 40,
      "outputs": [
        {
          "output_type": "execute_result",
          "data": {
            "text/html": [
              "<div>\n",
              "<style scoped>\n",
              "    .dataframe tbody tr th:only-of-type {\n",
              "        vertical-align: middle;\n",
              "    }\n",
              "\n",
              "    .dataframe tbody tr th {\n",
              "        vertical-align: top;\n",
              "    }\n",
              "\n",
              "    .dataframe thead th {\n",
              "        text-align: right;\n",
              "    }\n",
              "</style>\n",
              "<table border=\"1\" class=\"dataframe\">\n",
              "  <thead>\n",
              "    <tr style=\"text-align: right;\">\n",
              "      <th></th>\n",
              "      <th>janeiro</th>\n",
              "      <th>fevereiro</th>\n",
              "      <th>março</th>\n",
              "      <th>abril</th>\n",
              "      <th>maio</th>\n",
              "      <th>junho</th>\n",
              "      <th>julho</th>\n",
              "      <th>agosto</th>\n",
              "      <th>setembro</th>\n",
              "      <th>outubro</th>\n",
              "      <th>novembro</th>\n",
              "      <th>dezembro</th>\n",
              "    </tr>\n",
              "  </thead>\n",
              "  <tbody>\n",
              "    <tr>\n",
              "      <th>Gabriel</th>\n",
              "      <td>2</td>\n",
              "      <td>10</td>\n",
              "      <td>5</td>\n",
              "      <td>6</td>\n",
              "      <td>4</td>\n",
              "      <td>7</td>\n",
              "      <td>15</td>\n",
              "      <td>12</td>\n",
              "      <td>2</td>\n",
              "      <td>17</td>\n",
              "      <td>15</td>\n",
              "      <td>10</td>\n",
              "    </tr>\n",
              "    <tr>\n",
              "      <th>Felipe</th>\n",
              "      <td>9</td>\n",
              "      <td>2</td>\n",
              "      <td>1</td>\n",
              "      <td>7</td>\n",
              "      <td>14</td>\n",
              "      <td>4</td>\n",
              "      <td>10</td>\n",
              "      <td>16</td>\n",
              "      <td>10</td>\n",
              "      <td>7</td>\n",
              "      <td>14</td>\n",
              "      <td>10</td>\n",
              "    </tr>\n",
              "  </tbody>\n",
              "</table>\n",
              "</div>"
            ],
            "text/plain": [
              "         janeiro  fevereiro  março  ...  outubro  novembro  dezembro\n",
              "Gabriel        2         10      5  ...       17        15        10\n",
              "Felipe         9          2      1  ...        7        14        10\n",
              "\n",
              "[2 rows x 12 columns]"
            ]
          },
          "metadata": {
            "tags": []
          },
          "execution_count": 40
        }
      ]
    },
    {
      "cell_type": "code",
      "metadata": {
        "id": "MCkmT5Mq1esu",
        "outputId": "75838011-9b8b-4daf-fa28-1462ec323fe6",
        "colab": {
          "base_uri": "https://localhost:8080/"
        }
      },
      "source": [
        "df2.iloc[0,0] # acessar elemento pelo indice"
      ],
      "execution_count": 43,
      "outputs": [
        {
          "output_type": "execute_result",
          "data": {
            "text/plain": [
              "2"
            ]
          },
          "metadata": {
            "tags": []
          },
          "execution_count": 43
        }
      ]
    },
    {
      "cell_type": "code",
      "metadata": {
        "id": "xngTahae18Gi",
        "outputId": "33b19c4c-099e-45f4-ef80-c4a44aa581d3",
        "colab": {
          "base_uri": "https://localhost:8080/"
        }
      },
      "source": [
        "df2.loc['Gabriel','setembro']"
      ],
      "execution_count": 46,
      "outputs": [
        {
          "output_type": "execute_result",
          "data": {
            "text/plain": [
              "2"
            ]
          },
          "metadata": {
            "tags": []
          },
          "execution_count": 46
        }
      ]
    },
    {
      "cell_type": "code",
      "metadata": {
        "id": "AY4S-XGA2RM1",
        "outputId": "fd3157a2-2365-4ea1-80c8-316f4ad2ce35",
        "colab": {
          "base_uri": "https://localhost:8080/"
        }
      },
      "source": [
        "df2.loc[['Gabriel','Felipe'],'outubro']"
      ],
      "execution_count": 49,
      "outputs": [
        {
          "output_type": "execute_result",
          "data": {
            "text/plain": [
              "Gabriel    17\n",
              "Felipe      7\n",
              "Name: outubro, dtype: int64"
            ]
          },
          "metadata": {
            "tags": []
          },
          "execution_count": 49
        }
      ]
    },
    {
      "cell_type": "code",
      "metadata": {
        "id": "vtcgi-BH2_1M",
        "outputId": "3dfff1ca-44c1-4533-a317-30d413f18358",
        "colab": {
          "base_uri": "https://localhost:8080/"
        }
      },
      "source": [
        "df2.loc['Gabriel']"
      ],
      "execution_count": 51,
      "outputs": [
        {
          "output_type": "execute_result",
          "data": {
            "text/plain": [
              "janeiro       2\n",
              "fevereiro    10\n",
              "março         5\n",
              "abril         6\n",
              "maio          4\n",
              "junho         7\n",
              "julho        15\n",
              "agosto       12\n",
              "setembro      2\n",
              "outubro      17\n",
              "novembro     15\n",
              "dezembro     10\n",
              "Name: Gabriel, dtype: int64"
            ]
          },
          "metadata": {
            "tags": []
          },
          "execution_count": 51
        }
      ]
    },
    {
      "cell_type": "code",
      "metadata": {
        "id": "P7DVyLrl3SAl",
        "outputId": "92ca8d25-9a23-4eb9-b0c0-1cb698eac94c",
        "colab": {
          "base_uri": "https://localhost:8080/"
        }
      },
      "source": [
        "df2.loc[:,'dezembro'] # o dois ponto para indicar todas as linhas, acessa elemento pelo nome"
      ],
      "execution_count": 54,
      "outputs": [
        {
          "output_type": "execute_result",
          "data": {
            "text/plain": [
              "Gabriel    10\n",
              "Felipe     10\n",
              "Name: dezembro, dtype: int64"
            ]
          },
          "metadata": {
            "tags": []
          },
          "execution_count": 54
        }
      ]
    },
    {
      "cell_type": "code",
      "metadata": {
        "id": "2uTfGs7A407g"
      },
      "source": [
        ""
      ],
      "execution_count": null,
      "outputs": []
    },
    {
      "cell_type": "code",
      "metadata": {
        "id": "8KPTs6de4Cvx",
        "outputId": "c84356a6-2d50-4d1e-bed2-0b892a9f4c41",
        "colab": {
          "base_uri": "https://localhost:8080/",
          "height": 297
        }
      },
      "source": [
        "df2.describe() # estatistica dos dados"
      ],
      "execution_count": 56,
      "outputs": [
        {
          "output_type": "execute_result",
          "data": {
            "text/html": [
              "<div>\n",
              "<style scoped>\n",
              "    .dataframe tbody tr th:only-of-type {\n",
              "        vertical-align: middle;\n",
              "    }\n",
              "\n",
              "    .dataframe tbody tr th {\n",
              "        vertical-align: top;\n",
              "    }\n",
              "\n",
              "    .dataframe thead th {\n",
              "        text-align: right;\n",
              "    }\n",
              "</style>\n",
              "<table border=\"1\" class=\"dataframe\">\n",
              "  <thead>\n",
              "    <tr style=\"text-align: right;\">\n",
              "      <th></th>\n",
              "      <th>janeiro</th>\n",
              "      <th>fevereiro</th>\n",
              "      <th>março</th>\n",
              "      <th>abril</th>\n",
              "      <th>maio</th>\n",
              "      <th>junho</th>\n",
              "      <th>julho</th>\n",
              "      <th>agosto</th>\n",
              "      <th>setembro</th>\n",
              "      <th>outubro</th>\n",
              "      <th>novembro</th>\n",
              "      <th>dezembro</th>\n",
              "    </tr>\n",
              "  </thead>\n",
              "  <tbody>\n",
              "    <tr>\n",
              "      <th>count</th>\n",
              "      <td>2.000000</td>\n",
              "      <td>2.000000</td>\n",
              "      <td>2.000000</td>\n",
              "      <td>2.000000</td>\n",
              "      <td>2.000000</td>\n",
              "      <td>2.00000</td>\n",
              "      <td>2.000000</td>\n",
              "      <td>2.000000</td>\n",
              "      <td>2.000000</td>\n",
              "      <td>2.000000</td>\n",
              "      <td>2.000000</td>\n",
              "      <td>2.0</td>\n",
              "    </tr>\n",
              "    <tr>\n",
              "      <th>mean</th>\n",
              "      <td>5.500000</td>\n",
              "      <td>6.000000</td>\n",
              "      <td>3.000000</td>\n",
              "      <td>6.500000</td>\n",
              "      <td>9.000000</td>\n",
              "      <td>5.50000</td>\n",
              "      <td>12.500000</td>\n",
              "      <td>14.000000</td>\n",
              "      <td>6.000000</td>\n",
              "      <td>12.000000</td>\n",
              "      <td>14.500000</td>\n",
              "      <td>10.0</td>\n",
              "    </tr>\n",
              "    <tr>\n",
              "      <th>std</th>\n",
              "      <td>4.949747</td>\n",
              "      <td>5.656854</td>\n",
              "      <td>2.828427</td>\n",
              "      <td>0.707107</td>\n",
              "      <td>7.071068</td>\n",
              "      <td>2.12132</td>\n",
              "      <td>3.535534</td>\n",
              "      <td>2.828427</td>\n",
              "      <td>5.656854</td>\n",
              "      <td>7.071068</td>\n",
              "      <td>0.707107</td>\n",
              "      <td>0.0</td>\n",
              "    </tr>\n",
              "    <tr>\n",
              "      <th>min</th>\n",
              "      <td>2.000000</td>\n",
              "      <td>2.000000</td>\n",
              "      <td>1.000000</td>\n",
              "      <td>6.000000</td>\n",
              "      <td>4.000000</td>\n",
              "      <td>4.00000</td>\n",
              "      <td>10.000000</td>\n",
              "      <td>12.000000</td>\n",
              "      <td>2.000000</td>\n",
              "      <td>7.000000</td>\n",
              "      <td>14.000000</td>\n",
              "      <td>10.0</td>\n",
              "    </tr>\n",
              "    <tr>\n",
              "      <th>25%</th>\n",
              "      <td>3.750000</td>\n",
              "      <td>4.000000</td>\n",
              "      <td>2.000000</td>\n",
              "      <td>6.250000</td>\n",
              "      <td>6.500000</td>\n",
              "      <td>4.75000</td>\n",
              "      <td>11.250000</td>\n",
              "      <td>13.000000</td>\n",
              "      <td>4.000000</td>\n",
              "      <td>9.500000</td>\n",
              "      <td>14.250000</td>\n",
              "      <td>10.0</td>\n",
              "    </tr>\n",
              "    <tr>\n",
              "      <th>50%</th>\n",
              "      <td>5.500000</td>\n",
              "      <td>6.000000</td>\n",
              "      <td>3.000000</td>\n",
              "      <td>6.500000</td>\n",
              "      <td>9.000000</td>\n",
              "      <td>5.50000</td>\n",
              "      <td>12.500000</td>\n",
              "      <td>14.000000</td>\n",
              "      <td>6.000000</td>\n",
              "      <td>12.000000</td>\n",
              "      <td>14.500000</td>\n",
              "      <td>10.0</td>\n",
              "    </tr>\n",
              "    <tr>\n",
              "      <th>75%</th>\n",
              "      <td>7.250000</td>\n",
              "      <td>8.000000</td>\n",
              "      <td>4.000000</td>\n",
              "      <td>6.750000</td>\n",
              "      <td>11.500000</td>\n",
              "      <td>6.25000</td>\n",
              "      <td>13.750000</td>\n",
              "      <td>15.000000</td>\n",
              "      <td>8.000000</td>\n",
              "      <td>14.500000</td>\n",
              "      <td>14.750000</td>\n",
              "      <td>10.0</td>\n",
              "    </tr>\n",
              "    <tr>\n",
              "      <th>max</th>\n",
              "      <td>9.000000</td>\n",
              "      <td>10.000000</td>\n",
              "      <td>5.000000</td>\n",
              "      <td>7.000000</td>\n",
              "      <td>14.000000</td>\n",
              "      <td>7.00000</td>\n",
              "      <td>15.000000</td>\n",
              "      <td>16.000000</td>\n",
              "      <td>10.000000</td>\n",
              "      <td>17.000000</td>\n",
              "      <td>15.000000</td>\n",
              "      <td>10.0</td>\n",
              "    </tr>\n",
              "  </tbody>\n",
              "</table>\n",
              "</div>"
            ],
            "text/plain": [
              "        janeiro  fevereiro     março  ...    outubro   novembro  dezembro\n",
              "count  2.000000   2.000000  2.000000  ...   2.000000   2.000000       2.0\n",
              "mean   5.500000   6.000000  3.000000  ...  12.000000  14.500000      10.0\n",
              "std    4.949747   5.656854  2.828427  ...   7.071068   0.707107       0.0\n",
              "min    2.000000   2.000000  1.000000  ...   7.000000  14.000000      10.0\n",
              "25%    3.750000   4.000000  2.000000  ...   9.500000  14.250000      10.0\n",
              "50%    5.500000   6.000000  3.000000  ...  12.000000  14.500000      10.0\n",
              "75%    7.250000   8.000000  4.000000  ...  14.500000  14.750000      10.0\n",
              "max    9.000000  10.000000  5.000000  ...  17.000000  15.000000      10.0\n",
              "\n",
              "[8 rows x 12 columns]"
            ]
          },
          "metadata": {
            "tags": []
          },
          "execution_count": 56
        }
      ]
    },
    {
      "cell_type": "markdown",
      "metadata": {
        "id": "3NPKQcrD48pH"
      },
      "source": [
        "Exercicio"
      ]
    },
    {
      "cell_type": "code",
      "metadata": {
        "id": "uHdja1gw44GB"
      },
      "source": [
        "dados = pd.read_csv('DadosDemograficos.csv')"
      ],
      "execution_count": 73,
      "outputs": []
    },
    {
      "cell_type": "code",
      "metadata": {
        "id": "En34KAmH7NUy",
        "outputId": "7a44c8ca-0120-48bd-89c1-e5419dcd88f9",
        "colab": {
          "base_uri": "https://localhost:8080/",
          "height": 204
        }
      },
      "source": [
        "dados.head()"
      ],
      "execution_count": 60,
      "outputs": [
        {
          "output_type": "execute_result",
          "data": {
            "text/html": [
              "<div>\n",
              "<style scoped>\n",
              "    .dataframe tbody tr th:only-of-type {\n",
              "        vertical-align: middle;\n",
              "    }\n",
              "\n",
              "    .dataframe tbody tr th {\n",
              "        vertical-align: top;\n",
              "    }\n",
              "\n",
              "    .dataframe thead th {\n",
              "        text-align: right;\n",
              "    }\n",
              "</style>\n",
              "<table border=\"1\" class=\"dataframe\">\n",
              "  <thead>\n",
              "    <tr style=\"text-align: right;\">\n",
              "      <th></th>\n",
              "      <th>Country Name</th>\n",
              "      <th>Country Code</th>\n",
              "      <th>Birth rate</th>\n",
              "      <th>Internet users</th>\n",
              "      <th>Income Group</th>\n",
              "    </tr>\n",
              "  </thead>\n",
              "  <tbody>\n",
              "    <tr>\n",
              "      <th>0</th>\n",
              "      <td>Aruba</td>\n",
              "      <td>ABW</td>\n",
              "      <td>10.244</td>\n",
              "      <td>78.9</td>\n",
              "      <td>High income</td>\n",
              "    </tr>\n",
              "    <tr>\n",
              "      <th>1</th>\n",
              "      <td>Afghanistan</td>\n",
              "      <td>AFG</td>\n",
              "      <td>35.253</td>\n",
              "      <td>5.9</td>\n",
              "      <td>Low income</td>\n",
              "    </tr>\n",
              "    <tr>\n",
              "      <th>2</th>\n",
              "      <td>Angola</td>\n",
              "      <td>AGO</td>\n",
              "      <td>45.985</td>\n",
              "      <td>19.1</td>\n",
              "      <td>Upper middle income</td>\n",
              "    </tr>\n",
              "    <tr>\n",
              "      <th>3</th>\n",
              "      <td>Albania</td>\n",
              "      <td>ALB</td>\n",
              "      <td>12.877</td>\n",
              "      <td>57.2</td>\n",
              "      <td>Upper middle income</td>\n",
              "    </tr>\n",
              "    <tr>\n",
              "      <th>4</th>\n",
              "      <td>United Arab Emirates</td>\n",
              "      <td>ARE</td>\n",
              "      <td>11.044</td>\n",
              "      <td>88.0</td>\n",
              "      <td>High income</td>\n",
              "    </tr>\n",
              "  </tbody>\n",
              "</table>\n",
              "</div>"
            ],
            "text/plain": [
              "           Country Name Country Code  ...  Internet users         Income Group\n",
              "0                 Aruba          ABW  ...            78.9          High income\n",
              "1           Afghanistan          AFG  ...             5.9           Low income\n",
              "2                Angola          AGO  ...            19.1  Upper middle income\n",
              "3               Albania          ALB  ...            57.2  Upper middle income\n",
              "4  United Arab Emirates          ARE  ...            88.0          High income\n",
              "\n",
              "[5 rows x 5 columns]"
            ]
          },
          "metadata": {
            "tags": []
          },
          "execution_count": 60
        }
      ]
    },
    {
      "cell_type": "code",
      "metadata": {
        "id": "78fNz2Y_7XHZ",
        "outputId": "bc62a2f9-0c5a-4cf0-ee94-4f2b06cd7765",
        "colab": {
          "base_uri": "https://localhost:8080/"
        }
      },
      "source": [
        "dados.shape"
      ],
      "execution_count": 63,
      "outputs": [
        {
          "output_type": "execute_result",
          "data": {
            "text/plain": [
              "(195, 5)"
            ]
          },
          "metadata": {
            "tags": []
          },
          "execution_count": 63
        }
      ]
    },
    {
      "cell_type": "code",
      "metadata": {
        "id": "mfUX2Siq7Z1K",
        "outputId": "3506f9ab-1d09-46d5-b51a-9b04824ec0d7",
        "colab": {
          "base_uri": "https://localhost:8080/",
          "height": 235
        }
      },
      "source": [
        "dados.head(6)"
      ],
      "execution_count": 65,
      "outputs": [
        {
          "output_type": "execute_result",
          "data": {
            "text/html": [
              "<div>\n",
              "<style scoped>\n",
              "    .dataframe tbody tr th:only-of-type {\n",
              "        vertical-align: middle;\n",
              "    }\n",
              "\n",
              "    .dataframe tbody tr th {\n",
              "        vertical-align: top;\n",
              "    }\n",
              "\n",
              "    .dataframe thead th {\n",
              "        text-align: right;\n",
              "    }\n",
              "</style>\n",
              "<table border=\"1\" class=\"dataframe\">\n",
              "  <thead>\n",
              "    <tr style=\"text-align: right;\">\n",
              "      <th></th>\n",
              "      <th>Country Name</th>\n",
              "      <th>Country Code</th>\n",
              "      <th>Birth rate</th>\n",
              "      <th>Internet users</th>\n",
              "      <th>Income Group</th>\n",
              "    </tr>\n",
              "  </thead>\n",
              "  <tbody>\n",
              "    <tr>\n",
              "      <th>0</th>\n",
              "      <td>Aruba</td>\n",
              "      <td>ABW</td>\n",
              "      <td>10.244</td>\n",
              "      <td>78.9</td>\n",
              "      <td>High income</td>\n",
              "    </tr>\n",
              "    <tr>\n",
              "      <th>1</th>\n",
              "      <td>Afghanistan</td>\n",
              "      <td>AFG</td>\n",
              "      <td>35.253</td>\n",
              "      <td>5.9</td>\n",
              "      <td>Low income</td>\n",
              "    </tr>\n",
              "    <tr>\n",
              "      <th>2</th>\n",
              "      <td>Angola</td>\n",
              "      <td>AGO</td>\n",
              "      <td>45.985</td>\n",
              "      <td>19.1</td>\n",
              "      <td>Upper middle income</td>\n",
              "    </tr>\n",
              "    <tr>\n",
              "      <th>3</th>\n",
              "      <td>Albania</td>\n",
              "      <td>ALB</td>\n",
              "      <td>12.877</td>\n",
              "      <td>57.2</td>\n",
              "      <td>Upper middle income</td>\n",
              "    </tr>\n",
              "    <tr>\n",
              "      <th>4</th>\n",
              "      <td>United Arab Emirates</td>\n",
              "      <td>ARE</td>\n",
              "      <td>11.044</td>\n",
              "      <td>88.0</td>\n",
              "      <td>High income</td>\n",
              "    </tr>\n",
              "    <tr>\n",
              "      <th>5</th>\n",
              "      <td>Argentina</td>\n",
              "      <td>ARG</td>\n",
              "      <td>17.716</td>\n",
              "      <td>59.9</td>\n",
              "      <td>High income</td>\n",
              "    </tr>\n",
              "  </tbody>\n",
              "</table>\n",
              "</div>"
            ],
            "text/plain": [
              "           Country Name Country Code  ...  Internet users         Income Group\n",
              "0                 Aruba          ABW  ...            78.9          High income\n",
              "1           Afghanistan          AFG  ...             5.9           Low income\n",
              "2                Angola          AGO  ...            19.1  Upper middle income\n",
              "3               Albania          ALB  ...            57.2  Upper middle income\n",
              "4  United Arab Emirates          ARE  ...            88.0          High income\n",
              "5             Argentina          ARG  ...            59.9          High income\n",
              "\n",
              "[6 rows x 5 columns]"
            ]
          },
          "metadata": {
            "tags": []
          },
          "execution_count": 65
        }
      ]
    },
    {
      "cell_type": "code",
      "metadata": {
        "id": "va3iBGSR-Tq1",
        "outputId": "3eed0991-ce13-4c0f-d73a-579fa5553db6",
        "colab": {
          "base_uri": "https://localhost:8080/",
          "height": 297
        }
      },
      "source": [
        "dados.describe()"
      ],
      "execution_count": 72,
      "outputs": [
        {
          "output_type": "execute_result",
          "data": {
            "text/html": [
              "<div>\n",
              "<style scoped>\n",
              "    .dataframe tbody tr th:only-of-type {\n",
              "        vertical-align: middle;\n",
              "    }\n",
              "\n",
              "    .dataframe tbody tr th {\n",
              "        vertical-align: top;\n",
              "    }\n",
              "\n",
              "    .dataframe thead th {\n",
              "        text-align: right;\n",
              "    }\n",
              "</style>\n",
              "<table border=\"1\" class=\"dataframe\">\n",
              "  <thead>\n",
              "    <tr style=\"text-align: right;\">\n",
              "      <th></th>\n",
              "      <th>Birth rate</th>\n",
              "      <th>Internet users</th>\n",
              "    </tr>\n",
              "  </thead>\n",
              "  <tbody>\n",
              "    <tr>\n",
              "      <th>count</th>\n",
              "      <td>195.000000</td>\n",
              "      <td>195.000000</td>\n",
              "    </tr>\n",
              "    <tr>\n",
              "      <th>mean</th>\n",
              "      <td>21.469928</td>\n",
              "      <td>42.076471</td>\n",
              "    </tr>\n",
              "    <tr>\n",
              "      <th>std</th>\n",
              "      <td>10.605467</td>\n",
              "      <td>29.030788</td>\n",
              "    </tr>\n",
              "    <tr>\n",
              "      <th>min</th>\n",
              "      <td>7.900000</td>\n",
              "      <td>0.900000</td>\n",
              "    </tr>\n",
              "    <tr>\n",
              "      <th>25%</th>\n",
              "      <td>12.120500</td>\n",
              "      <td>14.520000</td>\n",
              "    </tr>\n",
              "    <tr>\n",
              "      <th>50%</th>\n",
              "      <td>19.680000</td>\n",
              "      <td>41.000000</td>\n",
              "    </tr>\n",
              "    <tr>\n",
              "      <th>75%</th>\n",
              "      <td>29.759500</td>\n",
              "      <td>66.225000</td>\n",
              "    </tr>\n",
              "    <tr>\n",
              "      <th>max</th>\n",
              "      <td>49.661000</td>\n",
              "      <td>96.546800</td>\n",
              "    </tr>\n",
              "  </tbody>\n",
              "</table>\n",
              "</div>"
            ],
            "text/plain": [
              "       Birth rate  Internet users\n",
              "count  195.000000      195.000000\n",
              "mean    21.469928       42.076471\n",
              "std     10.605467       29.030788\n",
              "min      7.900000        0.900000\n",
              "25%     12.120500       14.520000\n",
              "50%     19.680000       41.000000\n",
              "75%     29.759500       66.225000\n",
              "max     49.661000       96.546800"
            ]
          },
          "metadata": {
            "tags": []
          },
          "execution_count": 72
        }
      ]
    },
    {
      "cell_type": "code",
      "metadata": {
        "id": "ZadYOe32AfLs",
        "outputId": "81ed7b1e-a077-4faf-e5ca-6187f57c5d69",
        "colab": {
          "base_uri": "https://localhost:8080/"
        }
      },
      "source": [
        "dados.dtypes"
      ],
      "execution_count": 90,
      "outputs": [
        {
          "output_type": "execute_result",
          "data": {
            "text/plain": [
              "Country Name       object\n",
              "Country Code       object\n",
              "Birth rate        float64\n",
              "Internet users    float64\n",
              "Income Group       object\n",
              "dtype: object"
            ]
          },
          "metadata": {
            "tags": []
          },
          "execution_count": 90
        }
      ]
    },
    {
      "cell_type": "code",
      "metadata": {
        "id": "tEWrpzCCIDMf",
        "outputId": "cfaecdb5-4922-4146-d4c6-6fc53719821b",
        "colab": {
          "base_uri": "https://localhost:8080/"
        }
      },
      "source": [
        "dados.columns"
      ],
      "execution_count": 92,
      "outputs": [
        {
          "output_type": "execute_result",
          "data": {
            "text/plain": [
              "Index(['Country Name', 'Country Code', 'Birth rate', 'Internet users',\n",
              "       'Income Group'],\n",
              "      dtype='object')"
            ]
          },
          "metadata": {
            "tags": []
          },
          "execution_count": 92
        }
      ]
    },
    {
      "cell_type": "code",
      "metadata": {
        "id": "2UHTw-J9ISRa",
        "outputId": "968645bb-2166-40e4-9292-6b6f3aad05b3",
        "colab": {
          "base_uri": "https://localhost:8080/"
        }
      },
      "source": [
        "dados['Country Name'] == 'Malta'\n",
        "Malta"
      ],
      "execution_count": 109,
      "outputs": [
        {
          "output_type": "execute_result",
          "data": {
            "text/plain": [
              "0      False\n",
              "1      False\n",
              "2      False\n",
              "3      False\n",
              "4      False\n",
              "       ...  \n",
              "190    False\n",
              "191    False\n",
              "192    False\n",
              "193    False\n",
              "194    False\n",
              "Name: Country Name, Length: 195, dtype: bool"
            ]
          },
          "metadata": {
            "tags": []
          },
          "execution_count": 109
        }
      ]
    },
    {
      "cell_type": "code",
      "metadata": {
        "id": "j0wfjpXHKzLC",
        "outputId": "31c08ffb-1a9b-46e8-cc4e-b85089475ad6",
        "colab": {
          "base_uri": "https://localhost:8080/",
          "height": 419
        }
      },
      "source": [
        "dados.sort_values(by='Country Name')"
      ],
      "execution_count": 111,
      "outputs": [
        {
          "output_type": "execute_result",
          "data": {
            "text/html": [
              "<div>\n",
              "<style scoped>\n",
              "    .dataframe tbody tr th:only-of-type {\n",
              "        vertical-align: middle;\n",
              "    }\n",
              "\n",
              "    .dataframe tbody tr th {\n",
              "        vertical-align: top;\n",
              "    }\n",
              "\n",
              "    .dataframe thead th {\n",
              "        text-align: right;\n",
              "    }\n",
              "</style>\n",
              "<table border=\"1\" class=\"dataframe\">\n",
              "  <thead>\n",
              "    <tr style=\"text-align: right;\">\n",
              "      <th></th>\n",
              "      <th>Country Name</th>\n",
              "      <th>Country Code</th>\n",
              "      <th>Birth rate</th>\n",
              "      <th>Internet users</th>\n",
              "      <th>Income Group</th>\n",
              "    </tr>\n",
              "  </thead>\n",
              "  <tbody>\n",
              "    <tr>\n",
              "      <th>1</th>\n",
              "      <td>Afghanistan</td>\n",
              "      <td>AFG</td>\n",
              "      <td>35.253</td>\n",
              "      <td>5.9</td>\n",
              "      <td>Low income</td>\n",
              "    </tr>\n",
              "    <tr>\n",
              "      <th>3</th>\n",
              "      <td>Albania</td>\n",
              "      <td>ALB</td>\n",
              "      <td>12.877</td>\n",
              "      <td>57.2</td>\n",
              "      <td>Upper middle income</td>\n",
              "    </tr>\n",
              "    <tr>\n",
              "      <th>49</th>\n",
              "      <td>Algeria</td>\n",
              "      <td>DZA</td>\n",
              "      <td>24.738</td>\n",
              "      <td>16.5</td>\n",
              "      <td>Upper middle income</td>\n",
              "    </tr>\n",
              "    <tr>\n",
              "      <th>2</th>\n",
              "      <td>Angola</td>\n",
              "      <td>AGO</td>\n",
              "      <td>45.985</td>\n",
              "      <td>19.1</td>\n",
              "      <td>Upper middle income</td>\n",
              "    </tr>\n",
              "    <tr>\n",
              "      <th>7</th>\n",
              "      <td>Antigua and Barbuda</td>\n",
              "      <td>ATG</td>\n",
              "      <td>16.447</td>\n",
              "      <td>63.4</td>\n",
              "      <td>High income</td>\n",
              "    </tr>\n",
              "    <tr>\n",
              "      <th>...</th>\n",
              "      <td>...</td>\n",
              "      <td>...</td>\n",
              "      <td>...</td>\n",
              "      <td>...</td>\n",
              "      <td>...</td>\n",
              "    </tr>\n",
              "    <tr>\n",
              "      <th>185</th>\n",
              "      <td>Virgin Islands (U.S.)</td>\n",
              "      <td>VIR</td>\n",
              "      <td>10.700</td>\n",
              "      <td>45.3</td>\n",
              "      <td>High income</td>\n",
              "    </tr>\n",
              "    <tr>\n",
              "      <th>188</th>\n",
              "      <td>West Bank and Gaza</td>\n",
              "      <td>PSE</td>\n",
              "      <td>30.394</td>\n",
              "      <td>46.6</td>\n",
              "      <td>Lower middle income</td>\n",
              "    </tr>\n",
              "    <tr>\n",
              "      <th>190</th>\n",
              "      <td>Yemen, Rep.</td>\n",
              "      <td>YEM</td>\n",
              "      <td>32.947</td>\n",
              "      <td>20.0</td>\n",
              "      <td>Lower middle income</td>\n",
              "    </tr>\n",
              "    <tr>\n",
              "      <th>193</th>\n",
              "      <td>Zambia</td>\n",
              "      <td>ZMB</td>\n",
              "      <td>40.471</td>\n",
              "      <td>15.4</td>\n",
              "      <td>Lower middle income</td>\n",
              "    </tr>\n",
              "    <tr>\n",
              "      <th>194</th>\n",
              "      <td>Zimbabwe</td>\n",
              "      <td>ZWE</td>\n",
              "      <td>35.715</td>\n",
              "      <td>18.5</td>\n",
              "      <td>Low income</td>\n",
              "    </tr>\n",
              "  </tbody>\n",
              "</table>\n",
              "<p>195 rows × 5 columns</p>\n",
              "</div>"
            ],
            "text/plain": [
              "              Country Name Country Code  ...  Internet users         Income Group\n",
              "1              Afghanistan          AFG  ...             5.9           Low income\n",
              "3                  Albania          ALB  ...            57.2  Upper middle income\n",
              "49                 Algeria          DZA  ...            16.5  Upper middle income\n",
              "2                   Angola          AGO  ...            19.1  Upper middle income\n",
              "7      Antigua and Barbuda          ATG  ...            63.4          High income\n",
              "..                     ...          ...  ...             ...                  ...\n",
              "185  Virgin Islands (U.S.)          VIR  ...            45.3          High income\n",
              "188     West Bank and Gaza          PSE  ...            46.6  Lower middle income\n",
              "190            Yemen, Rep.          YEM  ...            20.0  Lower middle income\n",
              "193                 Zambia          ZMB  ...            15.4  Lower middle income\n",
              "194               Zimbabwe          ZWE  ...            18.5           Low income\n",
              "\n",
              "[195 rows x 5 columns]"
            ]
          },
          "metadata": {
            "tags": []
          },
          "execution_count": 111
        }
      ]
    },
    {
      "cell_type": "code",
      "metadata": {
        "id": "zwQ5l_NuLzaL",
        "outputId": "dcb9170b-85e4-4947-8a4c-323762c80ce8",
        "colab": {
          "base_uri": "https://localhost:8080/",
          "height": 80
        }
      },
      "source": [
        "dados[(dados[\"Birth rate\"] > 35.0) & (dados[\"Internet users\"] < 25) & (dados[\"Income Group\"] == 'High income') ]"
      ],
      "execution_count": 120,
      "outputs": [
        {
          "output_type": "execute_result",
          "data": {
            "text/html": [
              "<div>\n",
              "<style scoped>\n",
              "    .dataframe tbody tr th:only-of-type {\n",
              "        vertical-align: middle;\n",
              "    }\n",
              "\n",
              "    .dataframe tbody tr th {\n",
              "        vertical-align: top;\n",
              "    }\n",
              "\n",
              "    .dataframe thead th {\n",
              "        text-align: right;\n",
              "    }\n",
              "</style>\n",
              "<table border=\"1\" class=\"dataframe\">\n",
              "  <thead>\n",
              "    <tr style=\"text-align: right;\">\n",
              "      <th></th>\n",
              "      <th>Country Name</th>\n",
              "      <th>Country Code</th>\n",
              "      <th>Birth rate</th>\n",
              "      <th>Internet users</th>\n",
              "      <th>Income Group</th>\n",
              "    </tr>\n",
              "  </thead>\n",
              "  <tbody>\n",
              "    <tr>\n",
              "      <th>67</th>\n",
              "      <td>Equatorial Guinea</td>\n",
              "      <td>GNQ</td>\n",
              "      <td>35.362</td>\n",
              "      <td>16.4</td>\n",
              "      <td>High income</td>\n",
              "    </tr>\n",
              "  </tbody>\n",
              "</table>\n",
              "</div>"
            ],
            "text/plain": [
              "         Country Name Country Code  Birth rate  Internet users Income Group\n",
              "67  Equatorial Guinea          GNQ      35.362            16.4  High income"
            ]
          },
          "metadata": {
            "tags": []
          },
          "execution_count": 120
        }
      ]
    },
    {
      "cell_type": "code",
      "metadata": {
        "id": "OVkOp2oPd79P",
        "outputId": "e31abe51-b71f-4734-9648-6c7a623acb72",
        "colab": {
          "base_uri": "https://localhost:8080/",
          "height": 80
        }
      },
      "source": [
        "filter = (dados['Birth rate'] > 35) & (dados['Internet users'] < 25) & (dados['Income Group'] == 'High income')\n",
        "dados[filter]"
      ],
      "execution_count": 123,
      "outputs": [
        {
          "output_type": "execute_result",
          "data": {
            "text/html": [
              "<div>\n",
              "<style scoped>\n",
              "    .dataframe tbody tr th:only-of-type {\n",
              "        vertical-align: middle;\n",
              "    }\n",
              "\n",
              "    .dataframe tbody tr th {\n",
              "        vertical-align: top;\n",
              "    }\n",
              "\n",
              "    .dataframe thead th {\n",
              "        text-align: right;\n",
              "    }\n",
              "</style>\n",
              "<table border=\"1\" class=\"dataframe\">\n",
              "  <thead>\n",
              "    <tr style=\"text-align: right;\">\n",
              "      <th></th>\n",
              "      <th>Country Name</th>\n",
              "      <th>Country Code</th>\n",
              "      <th>Birth rate</th>\n",
              "      <th>Internet users</th>\n",
              "      <th>Income Group</th>\n",
              "    </tr>\n",
              "  </thead>\n",
              "  <tbody>\n",
              "    <tr>\n",
              "      <th>67</th>\n",
              "      <td>Equatorial Guinea</td>\n",
              "      <td>GNQ</td>\n",
              "      <td>35.362</td>\n",
              "      <td>16.4</td>\n",
              "      <td>High income</td>\n",
              "    </tr>\n",
              "  </tbody>\n",
              "</table>\n",
              "</div>"
            ],
            "text/plain": [
              "         Country Name Country Code  Birth rate  Internet users Income Group\n",
              "67  Equatorial Guinea          GNQ      35.362            16.4  High income"
            ]
          },
          "metadata": {
            "tags": []
          },
          "execution_count": 123
        }
      ]
    },
    {
      "cell_type": "code",
      "metadata": {
        "id": "g0k2F2jLMl1_",
        "outputId": "3bd50f9a-ad31-4aa9-d0a6-e8127283f0e8",
        "colab": {
          "base_uri": "https://localhost:8080/",
          "height": 80
        }
      },
      "source": [
        "dados[(dados[\"Birth rate\"] > 45.0) & (dados[\"Internet users\"] < 25) & (dados[\"Income Group\"] == 'Upper middle income') ]"
      ],
      "execution_count": 115,
      "outputs": [
        {
          "output_type": "execute_result",
          "data": {
            "text/html": [
              "<div>\n",
              "<style scoped>\n",
              "    .dataframe tbody tr th:only-of-type {\n",
              "        vertical-align: middle;\n",
              "    }\n",
              "\n",
              "    .dataframe tbody tr th {\n",
              "        vertical-align: top;\n",
              "    }\n",
              "\n",
              "    .dataframe thead th {\n",
              "        text-align: right;\n",
              "    }\n",
              "</style>\n",
              "<table border=\"1\" class=\"dataframe\">\n",
              "  <thead>\n",
              "    <tr style=\"text-align: right;\">\n",
              "      <th></th>\n",
              "      <th>Country Name</th>\n",
              "      <th>Country Code</th>\n",
              "      <th>Birth rate</th>\n",
              "      <th>Internet users</th>\n",
              "      <th>Income Group</th>\n",
              "    </tr>\n",
              "  </thead>\n",
              "  <tbody>\n",
              "    <tr>\n",
              "      <th>2</th>\n",
              "      <td>Angola</td>\n",
              "      <td>AGO</td>\n",
              "      <td>45.985</td>\n",
              "      <td>19.1</td>\n",
              "      <td>Upper middle income</td>\n",
              "    </tr>\n",
              "  </tbody>\n",
              "</table>\n",
              "</div>"
            ],
            "text/plain": [
              "  Country Name Country Code  Birth rate  Internet users         Income Group\n",
              "2       Angola          AGO      45.985            19.1  Upper middle income"
            ]
          },
          "metadata": {
            "tags": []
          },
          "execution_count": 115
        }
      ]
    },
    {
      "cell_type": "code",
      "metadata": {
        "id": "30csMVnCd5dv",
        "outputId": "633edb3d-79e1-458c-cdd5-e912ac38d228",
        "colab": {
          "base_uri": "https://localhost:8080/",
          "height": 80
        }
      },
      "source": [
        "filtro3 = dados['Country Name'] == 'Malta'\n",
        "dados[Malta]"
      ],
      "execution_count": 124,
      "outputs": [
        {
          "output_type": "execute_result",
          "data": {
            "text/html": [
              "<div>\n",
              "<style scoped>\n",
              "    .dataframe tbody tr th:only-of-type {\n",
              "        vertical-align: middle;\n",
              "    }\n",
              "\n",
              "    .dataframe tbody tr th {\n",
              "        vertical-align: top;\n",
              "    }\n",
              "\n",
              "    .dataframe thead th {\n",
              "        text-align: right;\n",
              "    }\n",
              "</style>\n",
              "<table border=\"1\" class=\"dataframe\">\n",
              "  <thead>\n",
              "    <tr style=\"text-align: right;\">\n",
              "      <th></th>\n",
              "      <th>Country Name</th>\n",
              "      <th>Country Code</th>\n",
              "      <th>Birth rate</th>\n",
              "      <th>Internet users</th>\n",
              "      <th>Income Group</th>\n",
              "    </tr>\n",
              "  </thead>\n",
              "  <tbody>\n",
              "    <tr>\n",
              "      <th>116</th>\n",
              "      <td>Malta</td>\n",
              "      <td>MLT</td>\n",
              "      <td>9.5</td>\n",
              "      <td>68.9138</td>\n",
              "      <td>High income</td>\n",
              "    </tr>\n",
              "  </tbody>\n",
              "</table>\n",
              "</div>"
            ],
            "text/plain": [
              "    Country Name Country Code  Birth rate  Internet users Income Group\n",
              "116        Malta          MLT         9.5         68.9138  High income"
            ]
          },
          "metadata": {
            "tags": []
          },
          "execution_count": 124
        }
      ]
    },
    {
      "cell_type": "code",
      "metadata": {
        "id": "0G5yZJSJg65h"
      },
      "source": [
        ""
      ],
      "execution_count": null,
      "outputs": []
    },
    {
      "cell_type": "code",
      "metadata": {
        "id": "sbtar_SuNESE",
        "outputId": "41976271-dfaa-4204-9ee0-4a8a857ce80c",
        "colab": {
          "base_uri": "https://localhost:8080/",
          "height": 80
        }
      },
      "source": [
        "dados[(dados['Country Name'] == 'Malta')]"
      ],
      "execution_count": 117,
      "outputs": [
        {
          "output_type": "execute_result",
          "data": {
            "text/html": [
              "<div>\n",
              "<style scoped>\n",
              "    .dataframe tbody tr th:only-of-type {\n",
              "        vertical-align: middle;\n",
              "    }\n",
              "\n",
              "    .dataframe tbody tr th {\n",
              "        vertical-align: top;\n",
              "    }\n",
              "\n",
              "    .dataframe thead th {\n",
              "        text-align: right;\n",
              "    }\n",
              "</style>\n",
              "<table border=\"1\" class=\"dataframe\">\n",
              "  <thead>\n",
              "    <tr style=\"text-align: right;\">\n",
              "      <th></th>\n",
              "      <th>Country Name</th>\n",
              "      <th>Country Code</th>\n",
              "      <th>Birth rate</th>\n",
              "      <th>Internet users</th>\n",
              "      <th>Income Group</th>\n",
              "    </tr>\n",
              "  </thead>\n",
              "  <tbody>\n",
              "    <tr>\n",
              "      <th>116</th>\n",
              "      <td>Malta</td>\n",
              "      <td>MLT</td>\n",
              "      <td>9.5</td>\n",
              "      <td>68.9138</td>\n",
              "      <td>High income</td>\n",
              "    </tr>\n",
              "  </tbody>\n",
              "</table>\n",
              "</div>"
            ],
            "text/plain": [
              "    Country Name Country Code  Birth rate  Internet users Income Group\n",
              "116        Malta          MLT         9.5         68.9138  High income"
            ]
          },
          "metadata": {
            "tags": []
          },
          "execution_count": 117
        }
      ]
    },
    {
      "cell_type": "code",
      "metadata": {
        "id": "pqEhn-2oOzAc",
        "outputId": "4b44ad3d-070b-412b-d5db-9f6844ba4988",
        "colab": {
          "base_uri": "https://localhost:8080/",
          "height": 80
        }
      },
      "source": [
        "Malta = dados['Country Name'] == 'Malta'\n",
        "dados[Malta]\n"
      ],
      "execution_count": 119,
      "outputs": [
        {
          "output_type": "execute_result",
          "data": {
            "text/html": [
              "<div>\n",
              "<style scoped>\n",
              "    .dataframe tbody tr th:only-of-type {\n",
              "        vertical-align: middle;\n",
              "    }\n",
              "\n",
              "    .dataframe tbody tr th {\n",
              "        vertical-align: top;\n",
              "    }\n",
              "\n",
              "    .dataframe thead th {\n",
              "        text-align: right;\n",
              "    }\n",
              "</style>\n",
              "<table border=\"1\" class=\"dataframe\">\n",
              "  <thead>\n",
              "    <tr style=\"text-align: right;\">\n",
              "      <th></th>\n",
              "      <th>Country Name</th>\n",
              "      <th>Country Code</th>\n",
              "      <th>Birth rate</th>\n",
              "      <th>Internet users</th>\n",
              "      <th>Income Group</th>\n",
              "    </tr>\n",
              "  </thead>\n",
              "  <tbody>\n",
              "    <tr>\n",
              "      <th>116</th>\n",
              "      <td>Malta</td>\n",
              "      <td>MLT</td>\n",
              "      <td>9.5</td>\n",
              "      <td>68.9138</td>\n",
              "      <td>High income</td>\n",
              "    </tr>\n",
              "  </tbody>\n",
              "</table>\n",
              "</div>"
            ],
            "text/plain": [
              "    Country Name Country Code  Birth rate  Internet users Income Group\n",
              "116        Malta          MLT         9.5         68.9138  High income"
            ]
          },
          "metadata": {
            "tags": []
          },
          "execution_count": 119
        }
      ]
    }
  ]
}