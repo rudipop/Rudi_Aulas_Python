{
  "nbformat": 4,
  "nbformat_minor": 0,
  "metadata": {
    "colab": {
      "name": "Python_Aula2_parte4_numpy.ipynb",
      "provenance": [],
      "collapsed_sections": [],
      "authorship_tag": "ABX9TyNfhpcLCj4tt2uQStjy90xf",
      "include_colab_link": true
    },
    "kernelspec": {
      "name": "python3",
      "display_name": "Python 3"
    }
  },
  "cells": [
    {
      "cell_type": "markdown",
      "metadata": {
        "id": "view-in-github",
        "colab_type": "text"
      },
      "source": [
        "<a href=\"https://colab.research.google.com/github/rudipop/Rudi_Aulas_Python/blob/main/Python_Aula2_parte4_numpy.ipynb\" target=\"_parent\"><img src=\"https://colab.research.google.com/assets/colab-badge.svg\" alt=\"Open In Colab\"/></a>"
      ]
    },
    {
      "cell_type": "code",
      "metadata": {
        "id": "8JHlnfjbnZ8q"
      },
      "source": [
        "import numpy as np"
      ],
      "execution_count": 1,
      "outputs": []
    },
    {
      "cell_type": "code",
      "metadata": {
        "id": "OVcYQFE5nia1"
      },
      "source": [
        "r1 = np.ones((4,3,2))\n"
      ],
      "execution_count": 17,
      "outputs": []
    },
    {
      "cell_type": "code",
      "metadata": {
        "id": "1ZudZAegn1dD",
        "outputId": "0b218948-670d-41b3-bfb2-def374baabf3",
        "colab": {
          "base_uri": "https://localhost:8080/"
        }
      },
      "source": [
        "r1"
      ],
      "execution_count": 6,
      "outputs": [
        {
          "output_type": "execute_result",
          "data": {
            "text/plain": [
              "array([[[1., 1.],\n",
              "        [1., 1.],\n",
              "        [1., 1.]],\n",
              "\n",
              "       [[1., 1.],\n",
              "        [1., 1.],\n",
              "        [1., 1.]],\n",
              "\n",
              "       [[1., 1.],\n",
              "        [1., 1.],\n",
              "        [1., 1.]],\n",
              "\n",
              "       [[1., 1.],\n",
              "        [1., 1.],\n",
              "        [1., 1.]]])"
            ]
          },
          "metadata": {
            "tags": []
          },
          "execution_count": 6
        }
      ]
    },
    {
      "cell_type": "code",
      "metadata": {
        "id": "7cX-PXgDpTZf",
        "outputId": "d3dd9b33-a984-4109-abeb-42e57b24e5a5",
        "colab": {
          "base_uri": "https://localhost:8080/"
        }
      },
      "source": [
        "r1.shape"
      ],
      "execution_count": 18,
      "outputs": [
        {
          "output_type": "execute_result",
          "data": {
            "text/plain": [
              "(4, 3, 2)"
            ]
          },
          "metadata": {
            "tags": []
          },
          "execution_count": 18
        }
      ]
    },
    {
      "cell_type": "code",
      "metadata": {
        "id": "bkGOk4mgn5gr"
      },
      "source": [
        "r0 = np.zeros((4,3,2))"
      ],
      "execution_count": 8,
      "outputs": []
    },
    {
      "cell_type": "code",
      "metadata": {
        "id": "lKvwlMGXoCeK",
        "outputId": "6b659c55-df59-4241-91c3-db47f9074e44",
        "colab": {
          "base_uri": "https://localhost:8080/"
        }
      },
      "source": [
        "r0"
      ],
      "execution_count": 10,
      "outputs": [
        {
          "output_type": "execute_result",
          "data": {
            "text/plain": [
              "array([[[0., 0.],\n",
              "        [0., 0.],\n",
              "        [0., 0.]],\n",
              "\n",
              "       [[0., 0.],\n",
              "        [0., 0.],\n",
              "        [0., 0.]],\n",
              "\n",
              "       [[0., 0.],\n",
              "        [0., 0.],\n",
              "        [0., 0.]],\n",
              "\n",
              "       [[0., 0.],\n",
              "        [0., 0.],\n",
              "        [0., 0.]]])"
            ]
          },
          "metadata": {
            "tags": []
          },
          "execution_count": 10
        }
      ]
    },
    {
      "cell_type": "code",
      "metadata": {
        "id": "-y9py6asoIlB"
      },
      "source": [
        "r_random = np.random.random((4,3,2))"
      ],
      "execution_count": 12,
      "outputs": []
    },
    {
      "cell_type": "code",
      "metadata": {
        "id": "drRzqr2QoVLI",
        "outputId": "b67fedd2-a3ce-4026-f103-ab5b3f16fb5b",
        "colab": {
          "base_uri": "https://localhost:8080/"
        }
      },
      "source": [
        "r_random"
      ],
      "execution_count": 14,
      "outputs": [
        {
          "output_type": "execute_result",
          "data": {
            "text/plain": [
              "array([[[0.60600164, 0.6760379 ],\n",
              "        [0.12542895, 0.7130408 ],\n",
              "        [0.70947783, 0.3078966 ]],\n",
              "\n",
              "       [[0.29419573, 0.8651718 ],\n",
              "        [0.85214138, 0.77792974],\n",
              "        [0.85240067, 0.72495019]],\n",
              "\n",
              "       [[0.88624051, 0.48268322],\n",
              "        [0.96123841, 0.46030866],\n",
              "        [0.58277417, 0.8020031 ]],\n",
              "\n",
              "       [[0.1646766 , 0.01545605],\n",
              "        [0.16611249, 0.0689429 ],\n",
              "        [0.0706828 , 0.52758601]]])"
            ]
          },
          "metadata": {
            "tags": []
          },
          "execution_count": 14
        }
      ]
    },
    {
      "cell_type": "code",
      "metadata": {
        "id": "CM2IsqGfoZUi",
        "outputId": "6d88c753-1a5c-4761-adfb-6d8cb361d95c",
        "colab": {
          "base_uri": "https://localhost:8080/"
        }
      },
      "source": [
        "r1 + r_random"
      ],
      "execution_count": 19,
      "outputs": [
        {
          "output_type": "execute_result",
          "data": {
            "text/plain": [
              "array([[[1.60600164, 1.6760379 ],\n",
              "        [1.12542895, 1.7130408 ],\n",
              "        [1.70947783, 1.3078966 ]],\n",
              "\n",
              "       [[1.29419573, 1.8651718 ],\n",
              "        [1.85214138, 1.77792974],\n",
              "        [1.85240067, 1.72495019]],\n",
              "\n",
              "       [[1.88624051, 1.48268322],\n",
              "        [1.96123841, 1.46030866],\n",
              "        [1.58277417, 1.8020031 ]],\n",
              "\n",
              "       [[1.1646766 , 1.01545605],\n",
              "        [1.16611249, 1.0689429 ],\n",
              "        [1.0706828 , 1.52758601]]])"
            ]
          },
          "metadata": {
            "tags": []
          },
          "execution_count": 19
        }
      ]
    },
    {
      "cell_type": "code",
      "metadata": {
        "id": "nIMtlkIHpwFo"
      },
      "source": [
        ""
      ],
      "execution_count": null,
      "outputs": []
    },
    {
      "cell_type": "markdown",
      "metadata": {
        "id": "wJXEkdRZpzT6"
      },
      "source": [
        "Criar array fornecendo os valores\n"
      ]
    },
    {
      "cell_type": "code",
      "metadata": {
        "id": "VgevO3xYp5sj",
        "outputId": "3566b0ef-1c5a-47bd-f555-72d4bb07f87f",
        "colab": {
          "base_uri": "https://localhost:8080/"
        }
      },
      "source": [
        "x = np.array([[1,2,3,4],[5,6,7,8]])\n",
        "x\n"
      ],
      "execution_count": 26,
      "outputs": [
        {
          "output_type": "execute_result",
          "data": {
            "text/plain": [
              "array([[1, 2, 3, 4],\n",
              "       [5, 6, 7, 8]])"
            ]
          },
          "metadata": {
            "tags": []
          },
          "execution_count": 26
        }
      ]
    },
    {
      "cell_type": "code",
      "metadata": {
        "id": "emf2L9QPqhWX",
        "outputId": "8f63dbef-a46d-4287-d02c-f7c682ba6b8e",
        "colab": {
          "base_uri": "https://localhost:8080/"
        }
      },
      "source": [
        "x.shape"
      ],
      "execution_count": 28,
      "outputs": [
        {
          "output_type": "execute_result",
          "data": {
            "text/plain": [
              "(2, 4)"
            ]
          },
          "metadata": {
            "tags": []
          },
          "execution_count": 28
        }
      ]
    },
    {
      "cell_type": "code",
      "metadata": {
        "id": "hFOQVu8Bqjtl",
        "outputId": "ec281118-2c40-4a07-af36-4e5bfff554fd",
        "colab": {
          "base_uri": "https://localhost:8080/"
        }
      },
      "source": [
        "x.size #numero de elementos"
      ],
      "execution_count": 30,
      "outputs": [
        {
          "output_type": "execute_result",
          "data": {
            "text/plain": [
              "8"
            ]
          },
          "metadata": {
            "tags": []
          },
          "execution_count": 30
        }
      ]
    },
    {
      "cell_type": "code",
      "metadata": {
        "id": "bEMwGO0aqrUz",
        "outputId": "2d68a734-769a-4862-b44d-56606d02d4ea",
        "colab": {
          "base_uri": "https://localhost:8080/"
        }
      },
      "source": [
        "x.ndim # numero de dimensoes\n"
      ],
      "execution_count": 32,
      "outputs": [
        {
          "output_type": "execute_result",
          "data": {
            "text/plain": [
              "2"
            ]
          },
          "metadata": {
            "tags": []
          },
          "execution_count": 32
        }
      ]
    },
    {
      "cell_type": "code",
      "metadata": {
        "id": "-ZRh5hdnqypx",
        "outputId": "2d197833-26f2-4533-87b3-4fce4ee289b3",
        "colab": {
          "base_uri": "https://localhost:8080/"
        }
      },
      "source": [
        "x.dtype"
      ],
      "execution_count": 33,
      "outputs": [
        {
          "output_type": "execute_result",
          "data": {
            "text/plain": [
              "dtype('int64')"
            ]
          },
          "metadata": {
            "tags": []
          },
          "execution_count": 33
        }
      ]
    },
    {
      "cell_type": "markdown",
      "metadata": {
        "id": "YnIFK6rEq6Uj"
      },
      "source": [
        "é do tipo inteiro"
      ]
    },
    {
      "cell_type": "code",
      "metadata": {
        "id": "MPIPeMu0q1cY",
        "outputId": "b9fc6545-2d3d-4c54-b379-6915cd15062e",
        "colab": {
          "base_uri": "https://localhost:8080/"
        }
      },
      "source": [
        "x.sum() # soma de todos os elementos"
      ],
      "execution_count": 35,
      "outputs": [
        {
          "output_type": "execute_result",
          "data": {
            "text/plain": [
              "36"
            ]
          },
          "metadata": {
            "tags": []
          },
          "execution_count": 35
        }
      ]
    },
    {
      "cell_type": "code",
      "metadata": {
        "id": "QvhxbypfrNON",
        "outputId": "ff0f393e-af20-4d77-9b3a-f00993822c47",
        "colab": {
          "base_uri": "https://localhost:8080/"
        }
      },
      "source": [
        "x.max()"
      ],
      "execution_count": 37,
      "outputs": [
        {
          "output_type": "execute_result",
          "data": {
            "text/plain": [
              "8"
            ]
          },
          "metadata": {
            "tags": []
          },
          "execution_count": 37
        }
      ]
    },
    {
      "cell_type": "code",
      "metadata": {
        "id": "PRSH4Ga6rSL4",
        "outputId": "1bebe014-4575-4075-f490-1f3b84a47a0c",
        "colab": {
          "base_uri": "https://localhost:8080/"
        }
      },
      "source": [
        "x.min()"
      ],
      "execution_count": 40,
      "outputs": [
        {
          "output_type": "execute_result",
          "data": {
            "text/plain": [
              "1"
            ]
          },
          "metadata": {
            "tags": []
          },
          "execution_count": 40
        }
      ]
    },
    {
      "cell_type": "code",
      "metadata": {
        "id": "AoWA-AzUrV_B"
      },
      "source": [
        ""
      ],
      "execution_count": null,
      "outputs": []
    },
    {
      "cell_type": "markdown",
      "metadata": {
        "id": "nPyCOYQvrjDT"
      },
      "source": [
        "acessar elementos do arrays"
      ]
    },
    {
      "cell_type": "code",
      "metadata": {
        "id": "2aEmEiZZroEI",
        "outputId": "0afdb10f-470d-46a5-f627-2f7c3988a728",
        "colab": {
          "base_uri": "https://localhost:8080/"
        }
      },
      "source": [
        "# aceessar o primeiro elemento\n",
        "x[0,0]"
      ],
      "execution_count": 41,
      "outputs": [
        {
          "output_type": "execute_result",
          "data": {
            "text/plain": [
              "1"
            ]
          },
          "metadata": {
            "tags": []
          },
          "execution_count": 41
        }
      ]
    },
    {
      "cell_type": "code",
      "metadata": {
        "id": "PsPyKFwnr_bb",
        "outputId": "66e43b30-638d-42b5-d16c-7ab1e80f1f87",
        "colab": {
          "base_uri": "https://localhost:8080/"
        }
      },
      "source": [
        "x[1,1] #segunda linha e segunda coluna"
      ],
      "execution_count": 44,
      "outputs": [
        {
          "output_type": "execute_result",
          "data": {
            "text/plain": [
              "6"
            ]
          },
          "metadata": {
            "tags": []
          },
          "execution_count": 44
        }
      ]
    },
    {
      "cell_type": "code",
      "metadata": {
        "id": "3E2QDlZWsNfl",
        "outputId": "f46e6ef8-d121-458a-d9ab-4e4159a18cc0",
        "colab": {
          "base_uri": "https://localhost:8080/"
        }
      },
      "source": [
        "# multiplos elementos\n",
        "x[0,1:3]# observar que é inclusive:exclusive, aqui fica a primeira linha, e o elementos da coluna 2 e 3"
      ],
      "execution_count": 46,
      "outputs": [
        {
          "output_type": "execute_result",
          "data": {
            "text/plain": [
              "array([2, 3])"
            ]
          },
          "metadata": {
            "tags": []
          },
          "execution_count": 46
        }
      ]
    },
    {
      "cell_type": "markdown",
      "metadata": {
        "id": "gwJISf5-reO_"
      },
      "source": [
        "Operações com matrizes\n"
      ]
    },
    {
      "cell_type": "code",
      "metadata": {
        "id": "BuPZNdlGrfqH",
        "outputId": "e5ca4dd3-1ce4-43f1-a05e-f3ed80a232d4",
        "colab": {
          "base_uri": "https://localhost:8080/"
        }
      },
      "source": [
        "2*x"
      ],
      "execution_count": 48,
      "outputs": [
        {
          "output_type": "execute_result",
          "data": {
            "text/plain": [
              "array([[ 2,  4,  6,  8],\n",
              "       [10, 12, 14, 16]])"
            ]
          },
          "metadata": {
            "tags": []
          },
          "execution_count": 48
        }
      ]
    },
    {
      "cell_type": "code",
      "metadata": {
        "id": "oWj8mk0QtsMP",
        "outputId": "d01cac4b-cdd5-4b2a-ac26-62295c7246df",
        "colab": {
          "base_uri": "https://localhost:8080/"
        }
      },
      "source": [
        "a = np.array([[1,2],[4,5]])\n",
        "b = np.array([[10,20],[30,40]])\n",
        "\n",
        "print(a)\n",
        "print(b)\n"
      ],
      "execution_count": 51,
      "outputs": [
        {
          "output_type": "stream",
          "text": [
            "[[1 2]\n",
            " [4 5]]\n",
            "[[10 20]\n",
            " [30 40]]\n"
          ],
          "name": "stdout"
        }
      ]
    },
    {
      "cell_type": "code",
      "metadata": {
        "id": "8cJbDVxxuZiW",
        "outputId": "4822e63e-d78d-46b8-ba9a-07c2c68797bb",
        "colab": {
          "base_uri": "https://localhost:8080/"
        }
      },
      "source": [
        "2*a"
      ],
      "execution_count": 53,
      "outputs": [
        {
          "output_type": "execute_result",
          "data": {
            "text/plain": [
              "array([[ 2,  4],\n",
              "       [ 8, 10]])"
            ]
          },
          "metadata": {
            "tags": []
          },
          "execution_count": 53
        }
      ]
    },
    {
      "cell_type": "code",
      "metadata": {
        "id": "JKidYVtEue-T",
        "outputId": "f9d8357f-c11d-426e-fb66-dcedeafd432e",
        "colab": {
          "base_uri": "https://localhost:8080/"
        }
      },
      "source": [
        "a+2"
      ],
      "execution_count": 55,
      "outputs": [
        {
          "output_type": "execute_result",
          "data": {
            "text/plain": [
              "array([[3, 4],\n",
              "       [6, 7]])"
            ]
          },
          "metadata": {
            "tags": []
          },
          "execution_count": 55
        }
      ]
    },
    {
      "cell_type": "code",
      "metadata": {
        "id": "6d7PJhiUui-w",
        "outputId": "f07cc39c-08d1-4d19-b597-af6b231fcaac",
        "colab": {
          "base_uri": "https://localhost:8080/"
        }
      },
      "source": [
        "#multiplicação de matrizes, observar que o num de colunas da primeira deve ser igual ao num de linhas da segunda matriz\n",
        "a.dot(b)"
      ],
      "execution_count": 57,
      "outputs": [
        {
          "output_type": "execute_result",
          "data": {
            "text/plain": [
              "array([[ 70, 100],\n",
              "       [190, 280]])"
            ]
          },
          "metadata": {
            "tags": []
          },
          "execution_count": 57
        }
      ]
    },
    {
      "cell_type": "code",
      "metadata": {
        "id": "0vqhiBVgu8tN"
      },
      "source": [
        ""
      ],
      "execution_count": null,
      "outputs": []
    }
  ]
}