{
  "nbformat": 4,
  "nbformat_minor": 0,
  "metadata": {
    "colab": {
      "name": "Aula1_conceitosbasicos.ipynb",
      "provenance": [],
      "collapsed_sections": [],
      "authorship_tag": "ABX9TyMtQ+Elr/y86cZUoqribqpX",
      "include_colab_link": true
    },
    "kernelspec": {
      "name": "python3",
      "display_name": "Python 3"
    }
  },
  "cells": [
    {
      "cell_type": "markdown",
      "metadata": {
        "id": "view-in-github",
        "colab_type": "text"
      },
      "source": [
        "<a href=\"https://colab.research.google.com/github/rudipop/Rudi_Aulas_Python/blob/main/Aula1_conceitosbasicos_revisada.ipynb\" target=\"_parent\"><img src=\"https://colab.research.google.com/assets/colab-badge.svg\" alt=\"Open In Colab\"/></a>"
      ]
    },
    {
      "cell_type": "code",
      "metadata": {
        "id": "uA3IkM-MFhda"
      },
      "source": [
        ""
      ],
      "execution_count": null,
      "outputs": []
    },
    {
      "cell_type": "markdown",
      "metadata": {
        "id": "rq8qIw5YGFKD"
      },
      "source": [
        "#Conceitos Básicos\n",
        "\n",
        "\n"
      ]
    },
    {
      "cell_type": "markdown",
      "metadata": {
        "id": "eWxnybkcGl8L"
      },
      "source": [
        ""
      ]
    },
    {
      "cell_type": "markdown",
      "metadata": {
        "id": "YswJFA_OGx92"
      },
      "source": [
        "## Variáveis\n"
      ]
    },
    {
      "cell_type": "code",
      "metadata": {
        "id": "7VyDsflKG3HR"
      },
      "source": [
        "variavel_1 = 3\n"
      ],
      "execution_count": null,
      "outputs": []
    },
    {
      "cell_type": "code",
      "metadata": {
        "id": "-b0sRtXUHAEW",
        "outputId": "ab8f0e44-ffba-4612-eb55-c08017b80a8e",
        "colab": {
          "base_uri": "https://localhost:8080/",
          "height": 34
        }
      },
      "source": [
        "print(variavel_1)\n"
      ],
      "execution_count": null,
      "outputs": [
        {
          "output_type": "stream",
          "text": [
            "3\n"
          ],
          "name": "stdout"
        }
      ]
    },
    {
      "cell_type": "code",
      "metadata": {
        "id": "zbvlQzqZHnmj",
        "outputId": "cd4dc09f-0d43-4d94-8521-88985c39dbe9",
        "colab": {
          "base_uri": "https://localhost:8080/",
          "height": 35
        }
      },
      "source": [
        "variavel_2 = 'Olá'\n",
        "variavel_2\n"
      ],
      "execution_count": null,
      "outputs": [
        {
          "output_type": "execute_result",
          "data": {
            "application/vnd.google.colaboratory.intrinsic+json": {
              "type": "string"
            },
            "text/plain": [
              "'Olá'"
            ]
          },
          "metadata": {
            "tags": []
          },
          "execution_count": 8
        }
      ]
    },
    {
      "cell_type": "code",
      "metadata": {
        "id": "e3VSeIu4H5Wh"
      },
      "source": [
        ""
      ],
      "execution_count": null,
      "outputs": []
    },
    {
      "cell_type": "markdown",
      "metadata": {
        "id": "s7Jospu4MZ6i"
      },
      "source": [
        "## Tipos de Dados\n"
      ]
    },
    {
      "cell_type": "markdown",
      "metadata": {
        "id": "LzEpCzVMMeA8"
      },
      "source": [
        "###1. Tipos numéricos\n",
        "\n"
      ]
    },
    {
      "cell_type": "markdown",
      "metadata": {
        "id": "IrFR0SwqNBzd"
      },
      "source": [
        ""
      ]
    },
    {
      "cell_type": "code",
      "metadata": {
        "id": "JNwB7pKwMpHj",
        "outputId": "f187bf2b-552a-4cbf-a8a2-77865ea16e9b",
        "colab": {
          "base_uri": "https://localhost:8080/",
          "height": 34
        }
      },
      "source": [
        "# int\n",
        "var = 1\n",
        "type (var)\n"
      ],
      "execution_count": null,
      "outputs": [
        {
          "output_type": "execute_result",
          "data": {
            "text/plain": [
              "int"
            ]
          },
          "metadata": {
            "tags": []
          },
          "execution_count": 10
        }
      ]
    },
    {
      "cell_type": "markdown",
      "metadata": {
        "id": "CjJKh1ayM_8l"
      },
      "source": [
        ""
      ]
    },
    {
      "cell_type": "code",
      "metadata": {
        "id": "xESk29KPM27i",
        "outputId": "831a3f08-2bd4-4fdd-df5f-08263f3187cc",
        "colab": {
          "base_uri": "https://localhost:8080/",
          "height": 34
        }
      },
      "source": [
        "# float\n",
        "var2 = 3.5\n",
        "type (var2)"
      ],
      "execution_count": null,
      "outputs": [
        {
          "output_type": "execute_result",
          "data": {
            "text/plain": [
              "float"
            ]
          },
          "metadata": {
            "tags": []
          },
          "execution_count": 11
        }
      ]
    },
    {
      "cell_type": "code",
      "metadata": {
        "id": "OKRnOK5gN_rL",
        "outputId": "2539a1a6-c98c-475a-b716-828518c51b61",
        "colab": {
          "base_uri": "https://localhost:8080/",
          "height": 34
        }
      },
      "source": [
        "# complex\n",
        "var3 = 2+3j\n",
        "type (var3)"
      ],
      "execution_count": null,
      "outputs": [
        {
          "output_type": "execute_result",
          "data": {
            "text/plain": [
              "complex"
            ]
          },
          "metadata": {
            "tags": []
          },
          "execution_count": 12
        }
      ]
    },
    {
      "cell_type": "markdown",
      "metadata": {
        "id": "Trg4cs-yUk0c"
      },
      "source": [
        "### tipo lógico"
      ]
    },
    {
      "cell_type": "code",
      "metadata": {
        "id": "7snhdlmNOJcx",
        "outputId": "9fc2ac72-928e-4131-f960-ea0e44269d97",
        "colab": {
          "base_uri": "https://localhost:8080/"
        }
      },
      "source": [
        "q1 = True\n",
        "type (q1)"
      ],
      "execution_count": 1,
      "outputs": [
        {
          "output_type": "execute_result",
          "data": {
            "text/plain": [
              "bool"
            ]
          },
          "metadata": {
            "tags": []
          },
          "execution_count": 1
        }
      ]
    },
    {
      "cell_type": "code",
      "metadata": {
        "id": "qTH0bzMuUy-z"
      },
      "source": [
        ""
      ],
      "execution_count": 1,
      "outputs": []
    },
    {
      "cell_type": "markdown",
      "metadata": {
        "id": "I0Ziz71ZU_DP"
      },
      "source": [
        "### Tipo Sequencia\n"
      ]
    },
    {
      "cell_type": "markdown",
      "metadata": {
        "id": "4oHx9dYCU8RH"
      },
      "source": [
        ""
      ]
    },
    {
      "cell_type": "code",
      "metadata": {
        "id": "lJ00rhPxVVp3",
        "outputId": "2179688c-97b9-44a5-ebf3-c653b4d13862",
        "colab": {
          "base_uri": "https://localhost:8080/"
        }
      },
      "source": [
        "# Strings\n",
        "d ='python PUC'\n",
        "type(d)"
      ],
      "execution_count": 6,
      "outputs": [
        {
          "output_type": "execute_result",
          "data": {
            "text/plain": [
              "str"
            ]
          },
          "metadata": {
            "tags": []
          },
          "execution_count": 6
        }
      ]
    },
    {
      "cell_type": "code",
      "metadata": {
        "id": "NwLP3fzSVh5c",
        "outputId": "b81f15d6-9cdc-42c7-d4e4-bcc42b5e5029",
        "colab": {
          "base_uri": "https://localhost:8080/",
          "height": 35
        }
      },
      "source": [
        "# acesso elementos da sequencia, começa com 0\n",
        "d[3]"
      ],
      "execution_count": 7,
      "outputs": [
        {
          "output_type": "execute_result",
          "data": {
            "application/vnd.google.colaboratory.intrinsic+json": {
              "type": "string"
            },
            "text/plain": [
              "'h'"
            ]
          },
          "metadata": {
            "tags": []
          },
          "execution_count": 7
        }
      ]
    },
    {
      "cell_type": "code",
      "metadata": {
        "id": "8F6ZIepFV1a_",
        "outputId": "59672955-abf3-4174-cbec-5c6ba1d56f8f",
        "colab": {
          "base_uri": "https://localhost:8080/",
          "height": 35
        }
      },
      "source": [
        "d[-1]"
      ],
      "execution_count": 8,
      "outputs": [
        {
          "output_type": "execute_result",
          "data": {
            "application/vnd.google.colaboratory.intrinsic+json": {
              "type": "string"
            },
            "text/plain": [
              "'C'"
            ]
          },
          "metadata": {
            "tags": []
          },
          "execution_count": 8
        }
      ]
    },
    {
      "cell_type": "code",
      "metadata": {
        "id": "5OYyZiJcWIZy"
      },
      "source": [
        "# de tras pra frente começa no 1 , ultimo elemento, strings são imutáveis, não consegue alterar. tem que mudar a srting inteira\n",
        "\n",
        "\n"
      ],
      "execution_count": 2,
      "outputs": []
    },
    {
      "cell_type": "code",
      "metadata": {
        "id": "W7QSJqQJWjeL",
        "outputId": "6fae787e-4fc3-4821-87fa-88c5a74c164e",
        "colab": {
          "base_uri": "https://localhost:8080/"
        }
      },
      "source": [
        "# lista\n",
        "# listas são mutáveis e contagem definida,aceita diferentes tipos de dados, pode adicionar dados a lista.\n",
        "lista1 = []\n",
        "type (lista1)"
      ],
      "execution_count": 9,
      "outputs": [
        {
          "output_type": "execute_result",
          "data": {
            "text/plain": [
              "list"
            ]
          },
          "metadata": {
            "tags": []
          },
          "execution_count": 9
        }
      ]
    },
    {
      "cell_type": "code",
      "metadata": {
        "id": "Ykva0d6DW4Yu"
      },
      "source": [
        "lista1 = ['puc', 1,True, 0.5, [1,2,3,4,5]]"
      ],
      "execution_count": 32,
      "outputs": []
    },
    {
      "cell_type": "code",
      "metadata": {
        "id": "skiVRvvCXO2o",
        "outputId": "2a302657-7e85-4eac-e15a-110eb45941c7",
        "colab": {
          "base_uri": "https://localhost:8080/"
        }
      },
      "source": [
        "lista1"
      ],
      "execution_count": 33,
      "outputs": [
        {
          "output_type": "execute_result",
          "data": {
            "text/plain": [
              "['puc', 1, True, 0.5, [1, 2, 3, 4, 5]]"
            ]
          },
          "metadata": {
            "tags": []
          },
          "execution_count": 33
        }
      ]
    },
    {
      "cell_type": "code",
      "metadata": {
        "id": "aLfw8Pw-YCPX",
        "outputId": "b7cf91f1-915b-43a0-9b29-80ab344aca9f",
        "colab": {
          "base_uri": "https://localhost:8080/"
        }
      },
      "source": [
        "# adicionar dados a lista ao final da lista\n",
        "lista1.append('rudi')\n",
        "lista1"
      ],
      "execution_count": 34,
      "outputs": [
        {
          "output_type": "execute_result",
          "data": {
            "text/plain": [
              "['puc', 1, True, 0.5, [1, 2, 3, 4, 5], 'rudi']"
            ]
          },
          "metadata": {
            "tags": []
          },
          "execution_count": 34
        }
      ]
    },
    {
      "cell_type": "code",
      "metadata": {
        "id": "dSDuNTXCYr2Y",
        "outputId": "58495783-258e-490f-ea97-5b8561e79ff9",
        "colab": {
          "base_uri": "https://localhost:8080/"
        }
      },
      "source": [
        "# add em posição especifica\n",
        "lista1.insert(3,8000)\n",
        "lista1"
      ],
      "execution_count": 35,
      "outputs": [
        {
          "output_type": "execute_result",
          "data": {
            "text/plain": [
              "['puc', 1, True, 8000, 0.5, [1, 2, 3, 4, 5], 'rudi']"
            ]
          },
          "metadata": {
            "tags": []
          },
          "execution_count": 35
        }
      ]
    },
    {
      "cell_type": "code",
      "metadata": {
        "id": "NldEfkFdY9Mc",
        "outputId": "9918a790-5f0a-4f29-d74f-475a1e2bb8c7",
        "colab": {
          "base_uri": "https://localhost:8080/",
          "height": 35
        }
      },
      "source": [
        "# acessar elemento de lista\n",
        "lista1[0]"
      ],
      "execution_count": 36,
      "outputs": [
        {
          "output_type": "execute_result",
          "data": {
            "application/vnd.google.colaboratory.intrinsic+json": {
              "type": "string"
            },
            "text/plain": [
              "'puc'"
            ]
          },
          "metadata": {
            "tags": []
          },
          "execution_count": 36
        }
      ]
    },
    {
      "cell_type": "code",
      "metadata": {
        "id": "k0Y6I47eZQ-q",
        "outputId": "924b55bc-031b-43b7-ce09-3892e09332a4",
        "colab": {
          "base_uri": "https://localhost:8080/",
          "height": 35
        }
      },
      "source": [
        "lista1[6]"
      ],
      "execution_count": 37,
      "outputs": [
        {
          "output_type": "execute_result",
          "data": {
            "application/vnd.google.colaboratory.intrinsic+json": {
              "type": "string"
            },
            "text/plain": [
              "'rudi'"
            ]
          },
          "metadata": {
            "tags": []
          },
          "execution_count": 37
        }
      ]
    },
    {
      "cell_type": "code",
      "metadata": {
        "id": "G1gYBqoZZWTw",
        "outputId": "92a2a25b-18ea-453b-a20b-11ca3a81acc7",
        "colab": {
          "base_uri": "https://localhost:8080/"
        }
      },
      "source": [
        "lista1[-2]\n",
        "lista1"
      ],
      "execution_count": 39,
      "outputs": [
        {
          "output_type": "execute_result",
          "data": {
            "text/plain": [
              "['puc', 1, True, 8000, 0.5, [1, 2, 3, 4, 5], 'rudi']"
            ]
          },
          "metadata": {
            "tags": []
          },
          "execution_count": 39
        }
      ]
    },
    {
      "cell_type": "code",
      "metadata": {
        "id": "o1qYh2IsZbdN",
        "outputId": "9e69260a-d25f-4431-b5b4-eda396473c66",
        "colab": {
          "base_uri": "https://localhost:8080/"
        }
      },
      "source": [
        "lista1.remove(1)\n",
        "lista1"
      ],
      "execution_count": 40,
      "outputs": [
        {
          "output_type": "execute_result",
          "data": {
            "text/plain": [
              "['puc', True, 8000, 0.5, [1, 2, 3, 4, 5], 'rudi']"
            ]
          },
          "metadata": {
            "tags": []
          },
          "execution_count": 40
        }
      ]
    },
    {
      "cell_type": "code",
      "metadata": {
        "id": "1S3NgghnZvAs",
        "outputId": "0eb23878-f214-4beb-9f43-e0ae5ed11d23",
        "colab": {
          "base_uri": "https://localhost:8080/"
        }
      },
      "source": [
        "lista1"
      ],
      "execution_count": 43,
      "outputs": [
        {
          "output_type": "execute_result",
          "data": {
            "text/plain": [
              "['puc', True, 0.5, [1, 2, 3, 4, 5], 'rudi']"
            ]
          },
          "metadata": {
            "tags": []
          },
          "execution_count": 43
        }
      ]
    },
    {
      "cell_type": "code",
      "metadata": {
        "id": "QeCKnoi1Z5XN",
        "outputId": "e24c6bfa-041f-4fec-b524-669f4b9f5c20",
        "colab": {
          "base_uri": "https://localhost:8080/"
        }
      },
      "source": [
        "# remove o item indexado\n",
        "lista1.pop(2)\n",
        "lista1"
      ],
      "execution_count": 44,
      "outputs": [
        {
          "output_type": "execute_result",
          "data": {
            "text/plain": [
              "['puc', True, [1, 2, 3, 4, 5], 'rudi']"
            ]
          },
          "metadata": {
            "tags": []
          },
          "execution_count": 44
        }
      ]
    },
    {
      "cell_type": "code",
      "metadata": {
        "id": "3VRjCMV1Z-JE",
        "outputId": "b28fe36c-4214-4bc4-d025-a4345d971327",
        "colab": {
          "base_uri": "https://localhost:8080/"
        }
      },
      "source": [
        "# tuplas, são imutáveis, não remove e não insere\n",
        "\n",
        "tupla1 = ()\n",
        "type (tupla1)"
      ],
      "execution_count": 45,
      "outputs": [
        {
          "output_type": "execute_result",
          "data": {
            "text/plain": [
              "tuple"
            ]
          },
          "metadata": {
            "tags": []
          },
          "execution_count": 45
        }
      ]
    },
    {
      "cell_type": "code",
      "metadata": {
        "id": "ygbCsTK5xtQh",
        "outputId": "4766760d-afce-4723-c5a2-4e6e3b03292f",
        "colab": {
          "base_uri": "https://localhost:8080/"
        }
      },
      "source": [
        "lista1.insert(2,0.5)\n",
        "lista1"
      ],
      "execution_count": 46,
      "outputs": [
        {
          "output_type": "execute_result",
          "data": {
            "text/plain": [
              "['puc', True, 0.5, [1, 2, 3, 4, 5], 'rudi']"
            ]
          },
          "metadata": {
            "tags": []
          },
          "execution_count": 46
        }
      ]
    },
    {
      "cell_type": "code",
      "metadata": {
        "id": "jxk_IQr8yKHA",
        "outputId": "dc9d9503-e72a-42a6-ce9d-51d74d639682",
        "colab": {
          "base_uri": "https://localhost:8080/"
        }
      },
      "source": [
        "lista1.pop(2)\n",
        "lista1"
      ],
      "execution_count": 47,
      "outputs": [
        {
          "output_type": "execute_result",
          "data": {
            "text/plain": [
              "['puc', True, [1, 2, 3, 4, 5], 'rudi']"
            ]
          },
          "metadata": {
            "tags": []
          },
          "execution_count": 47
        }
      ]
    },
    {
      "cell_type": "code",
      "metadata": {
        "id": "eTdCt4k51wT9"
      },
      "source": [
        "a=1\n",
        "b=10\n",
        "c=100\n",
        "d=1000\n",
        "listab = [a,b,c,d]\n",
        "lista1.append(listab)\n",
        "lista1.insert(2,listab)\n"
      ],
      "execution_count": 68,
      "outputs": []
    },
    {
      "cell_type": "code",
      "metadata": {
        "id": "2rz7FcGn_wwY",
        "outputId": "b31ede7d-2b9f-4080-aa7d-1f8bfd7c9a8b",
        "colab": {
          "base_uri": "https://localhost:8080/"
        }
      },
      "source": [
        "lista1"
      ],
      "execution_count": 69,
      "outputs": [
        {
          "output_type": "execute_result",
          "data": {
            "text/plain": [
              "['puc',\n",
              " True,\n",
              " [1, 10, 100, 1000],\n",
              " [1, 2, 3, 4, 5],\n",
              " 'rudi',\n",
              " [6, 7, 8, 9],\n",
              " [1, 10, 100, 1000],\n",
              " [1, 10, 100, 1000]]"
            ]
          },
          "metadata": {
            "tags": []
          },
          "execution_count": 69
        }
      ]
    },
    {
      "cell_type": "code",
      "metadata": {
        "id": "eSw4b2Ok3zTy",
        "outputId": "690181d7-ddef-47c1-e225-74966c60c34f",
        "colab": {
          "base_uri": "https://localhost:8080/"
        }
      },
      "source": [
        "\n",
        "lista1[4]"
      ],
      "execution_count": 64,
      "outputs": [
        {
          "output_type": "execute_result",
          "data": {
            "text/plain": [
              "[6, 7, 8, 9]"
            ]
          },
          "metadata": {
            "tags": []
          },
          "execution_count": 64
        }
      ]
    },
    {
      "cell_type": "code",
      "metadata": {
        "id": "VzvRb2mL4fzS",
        "outputId": "5fe6a99a-8739-4acd-aa18-01219b7bde32",
        "colab": {
          "base_uri": "https://localhost:8080/"
        }
      },
      "source": [
        "type(lista1[1])"
      ],
      "execution_count": 67,
      "outputs": [
        {
          "output_type": "execute_result",
          "data": {
            "text/plain": [
              "bool"
            ]
          },
          "metadata": {
            "tags": []
          },
          "execution_count": 67
        }
      ]
    },
    {
      "cell_type": "code",
      "metadata": {
        "id": "7zqkGoV1c82n"
      },
      "source": [
        "tupla1 = ('puc', 1 , 2, 3, 0.5)"
      ],
      "execution_count": 72,
      "outputs": []
    },
    {
      "cell_type": "code",
      "metadata": {
        "id": "KJ8K-FuAdjWk",
        "outputId": "09449bdb-2840-4833-a1ed-2c09f754d7b0",
        "colab": {
          "base_uri": "https://localhost:8080/"
        }
      },
      "source": [
        "tupla1"
      ],
      "execution_count": 73,
      "outputs": [
        {
          "output_type": "execute_result",
          "data": {
            "text/plain": [
              "('puc', 1, 2, 3, 0.5)"
            ]
          },
          "metadata": {
            "tags": []
          },
          "execution_count": 73
        }
      ]
    },
    {
      "cell_type": "code",
      "metadata": {
        "id": "J60p9Hj8dlsv",
        "outputId": "2d7cf930-21e6-4b20-e585-9fa0e99245af",
        "colab": {
          "base_uri": "https://localhost:8080/"
        }
      },
      "source": [
        "# acessar elem tupla\n",
        "tupla1\n",
        "\n"
      ],
      "execution_count": 76,
      "outputs": [
        {
          "output_type": "execute_result",
          "data": {
            "text/plain": [
              "('puc', 1, 2, 3, 0.5)"
            ]
          },
          "metadata": {
            "tags": []
          },
          "execution_count": 76
        }
      ]
    },
    {
      "cell_type": "code",
      "metadata": {
        "id": "TLtZZtGSAz59",
        "outputId": "a23f40ff-7785-4c76-9e15-96897e898011",
        "colab": {
          "base_uri": "https://localhost:8080/",
          "height": 163
        }
      },
      "source": [
        "tupla1[5]"
      ],
      "execution_count": 71,
      "outputs": [
        {
          "output_type": "error",
          "ename": "IndexError",
          "evalue": "ignored",
          "traceback": [
            "\u001b[0;31m---------------------------------------------------------------------------\u001b[0m",
            "\u001b[0;31mIndexError\u001b[0m                                Traceback (most recent call last)",
            "\u001b[0;32m<ipython-input-71-4c39df1f3061>\u001b[0m in \u001b[0;36m<module>\u001b[0;34m()\u001b[0m\n\u001b[0;32m----> 1\u001b[0;31m \u001b[0mtupla1\u001b[0m\u001b[0;34m[\u001b[0m\u001b[0;36m5\u001b[0m\u001b[0;34m]\u001b[0m\u001b[0;34m\u001b[0m\u001b[0;34m\u001b[0m\u001b[0m\n\u001b[0m",
            "\u001b[0;31mIndexError\u001b[0m: tuple index out of range"
          ]
        }
      ]
    },
    {
      "cell_type": "code",
      "metadata": {
        "id": "eTxlWKqOdzjn"
      },
      "source": [
        ""
      ],
      "execution_count": null,
      "outputs": []
    },
    {
      "cell_type": "markdown",
      "metadata": {
        "id": "5PgrTr1ReARL"
      },
      "source": [
        "### tipo SET\n"
      ]
    },
    {
      "cell_type": "code",
      "metadata": {
        "id": "_2eNTkm1eHng",
        "outputId": "ded045ea-2e7e-4b79-a80d-d9fec32fc35d",
        "colab": {
          "base_uri": "https://localhost:8080/"
        }
      },
      "source": [
        "# colocar entre colchetes pois só pode receber um elemento (que pode ser uma lista), então entre colchetes recebe um conjunto\n",
        "set1 = set()\n",
        "type (set1)"
      ],
      "execution_count": 85,
      "outputs": [
        {
          "output_type": "execute_result",
          "data": {
            "text/plain": [
              "set"
            ]
          },
          "metadata": {
            "tags": []
          },
          "execution_count": 85
        }
      ]
    },
    {
      "cell_type": "code",
      "metadata": {
        "id": "tbwJirj5eM60",
        "outputId": "bf761f7f-42b9-4898-dd0f-1640b2bfd732",
        "colab": {
          "base_uri": "https://localhost:8080/"
        }
      },
      "source": [
        "# não armazena elementos repetidos, o True já é o numero 1\n",
        "set1 = set([1,'puc', 'cce', 'rudi', 'rudi',4,4,3,d,a,'z','b','a'])\n",
        "set1"
      ],
      "execution_count": 88,
      "outputs": [
        {
          "output_type": "execute_result",
          "data": {
            "text/plain": [
              "{1, 1000, 3, 4, 'a', 'b', 'cce', 'puc', 'rudi', 'z'}"
            ]
          },
          "metadata": {
            "tags": []
          },
          "execution_count": 88
        }
      ]
    },
    {
      "cell_type": "code",
      "metadata": {
        "id": "lwHkBPwYe1CA"
      },
      "source": [
        "set1.add (8)# adiciona um elemento"
      ],
      "execution_count": 89,
      "outputs": []
    },
    {
      "cell_type": "code",
      "metadata": {
        "id": "4zfvh9sFfvz-",
        "outputId": "3d1519b1-e309-4987-87ec-be8c2cb6364c",
        "colab": {
          "base_uri": "https://localhost:8080/"
        }
      },
      "source": [
        "set1"
      ],
      "execution_count": 90,
      "outputs": [
        {
          "output_type": "execute_result",
          "data": {
            "text/plain": [
              "{1, 1000, 3, 4, 8, 'a', 'b', 'cce', 'puc', 'rudi', 'z'}"
            ]
          },
          "metadata": {
            "tags": []
          },
          "execution_count": 90
        }
      ]
    },
    {
      "cell_type": "code",
      "metadata": {
        "id": "VsoYHyJ0fxq8"
      },
      "source": [
        "# adiciona varios elementos\n",
        "set1.update([7,2, 'rudinho',3])"
      ],
      "execution_count": 93,
      "outputs": []
    },
    {
      "cell_type": "code",
      "metadata": {
        "id": "FI7NIW2MgCct",
        "outputId": "c4490588-19db-4c30-e2d4-27fb944f081d",
        "colab": {
          "base_uri": "https://localhost:8080/"
        }
      },
      "source": [
        "set1 # não tem indexação"
      ],
      "execution_count": 96,
      "outputs": [
        {
          "output_type": "execute_result",
          "data": {
            "text/plain": [
              "{1,\n",
              " 10,\n",
              " 1000,\n",
              " 2,\n",
              " 3,\n",
              " 4,\n",
              " 7,\n",
              " 8,\n",
              " 'a',\n",
              " 'b',\n",
              " 'cce',\n",
              " 'puc',\n",
              " 'rudi',\n",
              " 'rudimar',\n",
              " 'rudinho',\n",
              " 'z'}"
            ]
          },
          "metadata": {
            "tags": []
          },
          "execution_count": 96
        }
      ]
    },
    {
      "cell_type": "code",
      "metadata": {
        "id": "osnNB3eUgKUU",
        "outputId": "59174d29-b65b-4bff-c749-955991a67687",
        "colab": {
          "base_uri": "https://localhost:8080/",
          "height": 35
        }
      },
      "source": [
        "# adicionar elementos no set, não tem indexação. deve transformar numa lista\n",
        "list(set1)[7]\n",
        "\n"
      ],
      "execution_count": 97,
      "outputs": [
        {
          "output_type": "execute_result",
          "data": {
            "application/vnd.google.colaboratory.intrinsic+json": {
              "type": "string"
            },
            "text/plain": [
              "'a'"
            ]
          },
          "metadata": {
            "tags": []
          },
          "execution_count": 97
        }
      ]
    },
    {
      "cell_type": "code",
      "metadata": {
        "id": "EFn055tIg2xF",
        "outputId": "56e65c98-b1fc-4be3-fc3c-f899f960254c",
        "colab": {
          "base_uri": "https://localhost:8080/"
        }
      },
      "source": [
        "# não mantem ordenação\n",
        "print(list(set1))"
      ],
      "execution_count": 102,
      "outputs": [
        {
          "output_type": "stream",
          "text": [
            "[1, 2, 3, 4, 7, 1000, 8, 'a', 10, 'rudimar', 'rudinho', 'puc', 'z', 'b', 'cce', 'rudi']\n"
          ],
          "name": "stdout"
        }
      ]
    },
    {
      "cell_type": "code",
      "metadata": {
        "id": "lUCvFKBJhDBT"
      },
      "source": [
        "set1.remove('a')"
      ],
      "execution_count": 115,
      "outputs": []
    },
    {
      "cell_type": "code",
      "metadata": {
        "id": "Z5PVE_jXhQEa",
        "outputId": "8067564e-19ce-4c4c-c75b-7c8383408fb2",
        "colab": {
          "base_uri": "https://localhost:8080/"
        }
      },
      "source": [
        "set1"
      ],
      "execution_count": 116,
      "outputs": [
        {
          "output_type": "execute_result",
          "data": {
            "text/plain": [
              "{1000, 4, 7, 8, 'b', 'cce', 'puc', 'rudi', 'rudimar', 'rudinho', 'z'}"
            ]
          },
          "metadata": {
            "tags": []
          },
          "execution_count": 116
        }
      ]
    },
    {
      "cell_type": "code",
      "metadata": {
        "id": "vuydgl_8hRZy"
      },
      "source": [
        ""
      ],
      "execution_count": null,
      "outputs": []
    },
    {
      "cell_type": "markdown",
      "metadata": {
        "id": "w5NCG3GIhXY7"
      },
      "source": [
        "### Dicionario\n"
      ]
    },
    {
      "cell_type": "code",
      "metadata": {
        "id": "3JDacbmrhapJ",
        "outputId": "bf9abdcd-e88b-4c4c-d1d1-9b02fbc9dd0d",
        "colab": {
          "base_uri": "https://localhost:8080/"
        }
      },
      "source": [
        "dic = {}\n",
        "type (dic)"
      ],
      "execution_count": 117,
      "outputs": [
        {
          "output_type": "execute_result",
          "data": {
            "text/plain": [
              "dict"
            ]
          },
          "metadata": {
            "tags": []
          },
          "execution_count": 117
        }
      ]
    },
    {
      "cell_type": "code",
      "metadata": {
        "id": "8ggBYdbRh6FM"
      },
      "source": [
        "dic = {'nome':'rudimar', 'familia':'gouveia','quantidade filhos': 8}"
      ],
      "execution_count": 118,
      "outputs": []
    },
    {
      "cell_type": "code",
      "metadata": {
        "id": "qq4ZOQ1tiQsT",
        "outputId": "fb15f89a-5144-4624-ccc9-5922b57665dd",
        "colab": {
          "base_uri": "https://localhost:8080/"
        }
      },
      "source": [
        "dic"
      ],
      "execution_count": 119,
      "outputs": [
        {
          "output_type": "execute_result",
          "data": {
            "text/plain": [
              "{'familia': 'gouveia', 'nome': 'rudimar', 'quantidade filhos': 8}"
            ]
          },
          "metadata": {
            "tags": []
          },
          "execution_count": 119
        }
      ]
    },
    {
      "cell_type": "code",
      "metadata": {
        "id": "9uh0h-IkiSwe",
        "outputId": "17ddd9a1-8228-498d-a4e1-a7436fac72f2",
        "colab": {
          "base_uri": "https://localhost:8080/",
          "height": 35
        }
      },
      "source": [
        "dic['nome']"
      ],
      "execution_count": 120,
      "outputs": [
        {
          "output_type": "execute_result",
          "data": {
            "application/vnd.google.colaboratory.intrinsic+json": {
              "type": "string"
            },
            "text/plain": [
              "'rudimar'"
            ]
          },
          "metadata": {
            "tags": []
          },
          "execution_count": 120
        }
      ]
    },
    {
      "cell_type": "code",
      "metadata": {
        "id": "e405KvwpIW2_"
      },
      "source": [
        "mercado = 'condor'"
      ],
      "execution_count": 129,
      "outputs": []
    },
    {
      "cell_type": "code",
      "metadata": {
        "id": "zjbuySP1Iges"
      },
      "source": [
        "dic['mercado'] = mercado"
      ],
      "execution_count": 130,
      "outputs": []
    },
    {
      "cell_type": "code",
      "metadata": {
        "id": "L5d4O9pciZd8"
      },
      "source": [
        "dic['bairro'] = 'merces'"
      ],
      "execution_count": 131,
      "outputs": []
    },
    {
      "cell_type": "code",
      "metadata": {
        "id": "2-9OS3sYikDp",
        "outputId": "fefbe760-e9f0-4bcb-e93b-1ed80ea5ab04",
        "colab": {
          "base_uri": "https://localhost:8080/"
        }
      },
      "source": [
        "dic"
      ],
      "execution_count": 132,
      "outputs": [
        {
          "output_type": "execute_result",
          "data": {
            "text/plain": [
              "{'bairro': 'merces',\n",
              " 'familia': 'gouveia',\n",
              " 'mercado': 'condor',\n",
              " 'nome': 'rudimar',\n",
              " 'quantidade filhos': 8}"
            ]
          },
          "metadata": {
            "tags": []
          },
          "execution_count": 132
        }
      ]
    },
    {
      "cell_type": "code",
      "metadata": {
        "id": "276wtrF6izv4",
        "outputId": "346b9502-ff81-462d-b889-07b9d5559b16",
        "colab": {
          "base_uri": "https://localhost:8080/"
        }
      },
      "source": [
        "dic"
      ],
      "execution_count": 133,
      "outputs": [
        {
          "output_type": "execute_result",
          "data": {
            "text/plain": [
              "{'bairro': 'merces',\n",
              " 'familia': 'gouveia',\n",
              " 'mercado': 'condor',\n",
              " 'nome': 'rudimar',\n",
              " 'quantidade filhos': 8}"
            ]
          },
          "metadata": {
            "tags": []
          },
          "execution_count": 133
        }
      ]
    },
    {
      "cell_type": "code",
      "metadata": {
        "id": "LOMw5NS5g9no",
        "outputId": "d3883602-c24e-405d-afef-0da6ffb6699e",
        "colab": {
          "base_uri": "https://localhost:8080/"
        }
      },
      "source": [
        "print(dic['nome'])"
      ],
      "execution_count": 128,
      "outputs": [
        {
          "output_type": "stream",
          "text": [
            "rudimar\n"
          ],
          "name": "stdout"
        }
      ]
    }
  ]
}